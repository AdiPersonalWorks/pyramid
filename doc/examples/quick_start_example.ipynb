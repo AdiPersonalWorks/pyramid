{
 "cells": [
  {
   "cell_type": "markdown",
   "metadata": {},
   "source": [
    "# `auto_arima`\n",
    "\n",
    "Pyramid bring R's [`auto.arima`](https://www.rdocumentation.org/packages/forecast/versions/7.3/topics/auto.arima) functionality to Python by wrapping statsmodel [`ARIMA`](https://github.com/statsmodels/statsmodels/blob/master/statsmodels/tsa/arima_model.py) and [`SARIMAX`](https://github.com/statsmodels/statsmodels/blob/master/statsmodels/tsa/statespace/sarimax.py) models into a singular scikit-learn-esque estimator ([`pyramid.arima.ARIMA`](https://github.com/tgsmith61591/pyramid/blob/master/pyramid/arima/arima.py)) and adding several layers of degree and seasonal differencing tests to identify the optimal model parameters.\n",
    "\n",
    "__Pyramid ARIMA models:__\n",
    "\n",
    "  - Are fully picklable for easy persistence and model deployment\n",
    "  - Can handle seasonal terms (unlike statsmodels ARIMAs)\n",
    "  - Follow sklearn model fit/predict conventions"
   ]
  },
  {
   "cell_type": "code",
   "execution_count": 1,
   "metadata": {
    "collapsed": false
   },
   "outputs": [
    {
     "name": "stdout",
     "output_type": "stream",
     "text": [
      "numpy version: '1.11.3'\n",
      "pyramid version: '0.1'\n"
     ]
    }
   ],
   "source": [
    "import numpy as np\n",
    "import pyramid\n",
    "\n",
    "print('numpy version: %r' % np.__version__)\n",
    "print('pyramid version: %r' % pyramid.__version__)"
   ]
  },
  {
   "cell_type": "markdown",
   "metadata": {},
   "source": [
    "We'll start by defining an array of data from an R time-series, `wineind`:\n",
    "\n",
    "```r\n",
    "> forecast::wineind\n",
    "       Jan   Feb   Mar   Apr   May   Jun   Jul   Aug   Sep   Oct   Nov   Dec\n",
    "1980 15136 16733 20016 17708 18019 19227 22893 23739 21133 22591 26786 29740\n",
    "1981 15028 17977 20008 21354 19498 22125 25817 28779 20960 22254 27392 29945\n",
    "1982 16933 17892 20533 23569 22417 22084 26580 27454 24081 23451 28991 31386\n",
    "1983 16896 20045 23471 21747 25621 23859 25500 30998 24475 23145 29701 34365\n",
    "1984 17556 22077 25702 22214 26886 23191 27831 35406 23195 25110 30009 36242\n",
    "1985 18450 21845 26488 22394 28057 25451 24872 33424 24052 28449 33533 37351\n",
    "1986 19969 21701 26249 24493 24603 26485 30723 34569 26689 26157 32064 38870\n",
    "1987 21337 19419 23166 28286 24570 24001 33151 24878 26804 28967 33311 40226\n",
    "1988 20504 23060 23562 27562 23940 24584 34303 25517 23494 29095 32903 34379\n",
    "1989 16991 21109 23740 25552 21752 20294 29009 25500 24166 26960 31222 38641\n",
    "1990 14672 17543 25453 32683 22449 22316 27595 25451 25421 25288 32568 35110\n",
    "1991 16052 22146 21198 19543 22084 23816 29961 26773 26635 26972 30207 38687\n",
    "1992 16974 21697 24179 23757 25013 24019 30345 24488 25156 25650 30923 37240\n",
    "1993 17466 19463 24352 26805 25236 24735 29356 31234 22724 28496 32857 37198\n",
    "1994 13652 22784 23565 26323 23779 27549 29660 23356\n",
    "```\n",
    "\n",
    "Note that the frequency of the data is 12:\n",
    "\n",
    "```r\n",
    "> frequency(forecast::wineind)\n",
    "[1] 12\n",
    "```"
   ]
  },
  {
   "cell_type": "code",
   "execution_count": 2,
   "metadata": {
    "collapsed": true
   },
   "outputs": [],
   "source": [
    "# this is a dataset from R\n",
    "wineind = np.array([\n",
    "    # Jan    Feb    Mar    Apr    May    Jun    Jul    Aug    Sep    Oct    Nov    Dec\n",
    "    15136, 16733, 20016, 17708, 18019, 19227, 22893, 23739, 21133, 22591, 26786, 29740, \n",
    "    15028, 17977, 20008, 21354, 19498, 22125, 25817, 28779, 20960, 22254, 27392, 29945, \n",
    "    16933, 17892, 20533, 23569, 22417, 22084, 26580, 27454, 24081, 23451, 28991, 31386, \n",
    "    16896, 20045, 23471, 21747, 25621, 23859, 25500, 30998, 24475, 23145, 29701, 34365, \n",
    "    17556, 22077, 25702, 22214, 26886, 23191, 27831, 35406, 23195, 25110, 30009, 36242, \n",
    "    18450, 21845, 26488, 22394, 28057, 25451, 24872, 33424, 24052, 28449, 33533, 37351, \n",
    "    19969, 21701, 26249, 24493, 24603, 26485, 30723, 34569, 26689, 26157, 32064, 38870, \n",
    "    21337, 19419, 23166, 28286, 24570, 24001, 33151, 24878, 26804, 28967, 33311, 40226, \n",
    "    20504, 23060, 23562, 27562, 23940, 24584, 34303, 25517, 23494, 29095, 32903, 34379, \n",
    "    16991, 21109, 23740, 25552, 21752, 20294, 29009, 25500, 24166, 26960, 31222, 38641, \n",
    "    14672, 17543, 25453, 32683, 22449, 22316, 27595, 25451, 25421, 25288, 32568, 35110, \n",
    "    16052, 22146, 21198, 19543, 22084, 23816, 29961, 26773, 26635, 26972, 30207, 38687, \n",
    "    16974, 21697, 24179, 23757, 25013, 24019, 30345, 24488, 25156, 25650, 30923, 37240, \n",
    "    17466, 19463, 24352, 26805, 25236, 24735, 29356, 31234, 22724, 28496, 32857, 37198, \n",
    "    13652, 22784, 23565, 26323, 23779, 27549, 29660, 23356]\n",
    ").astype(np.float64)"
   ]
  },
  {
   "cell_type": "markdown",
   "metadata": {},
   "source": [
    "## Fitting an ARIMA\n",
    "\n",
    "We will first fit a seasonal ARIMA. Note that you do not need to call `auto_arima` in order to fit a model&mdash;if you know the order and seasonality of your data, you can simply fit an ARIMA with the defined hyper-parameters:"
   ]
  },
  {
   "cell_type": "code",
   "execution_count": 3,
   "metadata": {
    "collapsed": true
   },
   "outputs": [],
   "source": [
    "from pyramid.arima import ARIMA\n",
    "\n",
    "fit = ARIMA(order=(1, 1, 1), seasonal_order=(0, 1, 1, 12)).fit(y=wineind)"
   ]
  },
  {
   "cell_type": "markdown",
   "metadata": {},
   "source": [
    "Note that your data does not have to exhibit seasonality to work with an ARIMA. We could fit an ARIMA against the same data with no seasonal terms whatsoever (but it is unlikely that it will perform better; quite the opposite, likely)."
   ]
  },
  {
   "cell_type": "code",
   "execution_count": 4,
   "metadata": {
    "collapsed": true
   },
   "outputs": [],
   "source": [
    "fit = ARIMA(order=(1, 1, 1), seasonal_order=None).fit(y=wineind)"
   ]
  },
  {
   "cell_type": "markdown",
   "metadata": {},
   "source": [
    "## Finding the optimal model hyper-parameters using `auto_arima`:\n",
    "\n",
    "If you are unsure (as is common) of the best parameters for your model, let `auto_arima` figure it out for you. `auto_arima` is similar to an ARIMA-specific grid search. Note that it is possible for `auto_arima` not to find a model that will converge; if this is the case, it will raise a `ValueError`."
   ]
  },
  {
   "cell_type": "code",
   "execution_count": 5,
   "metadata": {
    "collapsed": false
   },
   "outputs": [
    {
     "name": "stdout",
     "output_type": "stream",
     "text": [
      "Fitting ARIMA: order=(1, 1, 2) seasonal_order=(0, 1, 1, 12); AIC=3066.771, BIC=3085.794\n",
      "Fitting ARIMA: order=(1, 1, 1) seasonal_order=(0, 1, 1, 12); AIC=3066.811, BIC=3082.663\n",
      "Fitting ARIMA: order=(1, 1, 1) seasonal_order=(1, 1, 1, 12); AIC=3067.666, BIC=3086.688\n",
      "Fitting ARIMA: order=(1, 1, 2) seasonal_order=(1, 1, 1, 12); AIC=3068.086, BIC=3090.280\n",
      "Fitting ARIMA: order=(1, 1, 2) seasonal_order=(0, 1, 2, 12); AIC=3067.766, BIC=3089.959\n",
      "Fitting ARIMA: order=(1, 1, 3) seasonal_order=(0, 1, 1, 12); AIC=3068.842, BIC=3091.036\n",
      "Fitting ARIMA: order=(1, 1, 1) seasonal_order=(2, 1, 1, 12); AIC=3070.302, BIC=3092.495\n",
      "Fitting ARIMA: order=(1, 1, 1) seasonal_order=(1, 1, 2, 12); AIC=3068.757, BIC=3090.951\n",
      "Fitting ARIMA: order=(1, 1, 1) seasonal_order=(0, 1, 2, 12); AIC=3067.669, BIC=3086.692\n",
      "Fitting ARIMA: order=(1, 1, 3) seasonal_order=(1, 1, 1, 12); AIC=3070.214, BIC=3095.578\n",
      "Fitting ARIMA: order=(1, 1, 2) seasonal_order=(2, 1, 1, 12); AIC=3069.948, BIC=3095.312\n",
      "Fitting ARIMA: order=(2, 1, 1) seasonal_order=(0, 1, 1, 12); AIC=3067.485, BIC=3086.508\n",
      "Fitting ARIMA: order=(1, 1, 2) seasonal_order=(1, 1, 2, 12); AIC=3069.717, BIC=3095.081\n",
      "Fitting ARIMA: order=(2, 1, 1) seasonal_order=(1, 1, 1, 12); AIC=3068.672, BIC=3090.865\n",
      "Fitting ARIMA: order=(1, 1, 1) seasonal_order=(2, 1, 2, 12); AIC=3070.103, BIC=3095.467\n",
      "Fitting ARIMA: order=(2, 1, 1) seasonal_order=(0, 1, 2, 12); AIC=3068.503, BIC=3090.696\n",
      "Fitting ARIMA: order=(1, 1, 3) seasonal_order=(0, 1, 2, 12); AIC=3069.854, BIC=3095.218\n",
      "Fitting ARIMA: order=(2, 1, 2) seasonal_order=(0, 1, 1, 12); AIC=3068.701, BIC=3090.895\n",
      "Fitting ARIMA: order=(2, 1, 1) seasonal_order=(2, 1, 1, 12); AIC=3070.641, BIC=3096.005\n",
      "Fitting ARIMA: order=(2, 1, 2) seasonal_order=(1, 1, 1, 12); AIC=3070.025, BIC=3095.389\n",
      "Fitting ARIMA: order=(1, 1, 3) seasonal_order=(2, 1, 1, 12); AIC=3072.048, BIC=3100.582\n",
      "Fitting ARIMA: order=(1, 1, 3) seasonal_order=(1, 1, 2, 12); AIC=3071.758, BIC=3100.293\n",
      "Fitting ARIMA: order=(1, 1, 2) seasonal_order=(2, 1, 2, 12); AIC=3069.992, BIC=3098.526\n",
      "Fitting ARIMA: order=(2, 1, 1) seasonal_order=(1, 1, 2, 12); AIC=3070.503, BIC=3095.866\n",
      "Fitting ARIMA: order=(2, 1, 3) seasonal_order=(0, 1, 1, 12); AIC=3070.642, BIC=3096.006\n",
      "Fitting ARIMA: order=(2, 1, 2) seasonal_order=(0, 1, 2, 12); AIC=3069.726, BIC=3095.090\n",
      "Fitting ARIMA: order=(2, 1, 3) seasonal_order=(1, 1, 1, 12); AIC=3071.523, BIC=3100.057\n",
      "Fitting ARIMA: order=(2, 1, 2) seasonal_order=(2, 1, 1, 12); AIC=3071.901, BIC=3100.435\n",
      "Fitting ARIMA: order=(2, 1, 2) seasonal_order=(1, 1, 2, 12); AIC=3071.683, BIC=3100.218\n",
      "Fitting ARIMA: order=(1, 1, 3) seasonal_order=(2, 1, 2, 12); AIC=3072.042, BIC=3103.747\n",
      "Fitting ARIMA: order=(3, 1, 1) seasonal_order=(0, 1, 1, 12); AIC=3069.393, BIC=3091.586\n",
      "Fitting ARIMA: order=(3, 1, 1) seasonal_order=(1, 1, 1, 12); AIC=3070.667, BIC=3096.031\n",
      "Fitting ARIMA: order=(2, 1, 1) seasonal_order=(2, 1, 2, 12); AIC=3071.047, BIC=3099.581\n",
      "Fitting ARIMA: order=(3, 1, 1) seasonal_order=(0, 1, 2, 12); AIC=3070.436, BIC=3095.800\n",
      "Fitting ARIMA: order=(2, 1, 3) seasonal_order=(0, 1, 2, 12); AIC=3071.600, BIC=3100.135\n",
      "Fitting ARIMA: order=(3, 1, 2) seasonal_order=(0, 1, 1, 12); AIC=nan, BIC=nan\n",
      "Fitting ARIMA: order=(3, 1, 2) seasonal_order=(0, 1, 2, 12); AIC=nan, BIC=nan\n",
      "Fitting ARIMA: order=(3, 1, 2) seasonal_order=(1, 1, 1, 12); AIC=nan, BIC=nan\n",
      "Fitting ARIMA: order=(3, 1, 2) seasonal_order=(1, 1, 2, 12); AIC=nan, BIC=nan\n",
      "Fitting ARIMA: order=(3, 1, 2) seasonal_order=(2, 1, 1, 12); AIC=nan, BIC=nan\n",
      "Fitting ARIMA: order=(3, 1, 2) seasonal_order=(2, 1, 2, 12); AIC=nan, BIC=nan\n",
      "Fitting ARIMA: order=(3, 1, 3) seasonal_order=(0, 1, 1, 12); AIC=3072.626, BIC=3101.160\n",
      "Fitting ARIMA: order=(3, 1, 1) seasonal_order=(2, 1, 1, 12); AIC=3072.617, BIC=3101.151\n",
      "Fitting ARIMA: order=(3, 1, 1) seasonal_order=(1, 1, 2, 12); AIC=3072.395, BIC=3100.930\n",
      "Fitting ARIMA: order=(2, 1, 2) seasonal_order=(2, 1, 2, 12); AIC=3072.043, BIC=3103.748\n",
      "Fitting ARIMA: order=(3, 1, 3) seasonal_order=(1, 1, 1, 12); AIC=3073.539, BIC=3105.244\n",
      "Fitting ARIMA: order=(2, 1, 3) seasonal_order=(1, 1, 2, 12); AIC=3073.554, BIC=3105.259\n",
      "Fitting ARIMA: order=(2, 1, 3) seasonal_order=(2, 1, 1, 12); AIC=3073.517, BIC=3105.222\n",
      "Fitting ARIMA: order=(3, 1, 3) seasonal_order=(0, 1, 2, 12); AIC=3073.580, BIC=3105.285\n",
      "Fitting ARIMA: order=(2, 1, 3) seasonal_order=(2, 1, 2, 12); AIC=3074.239, BIC=3109.114\n",
      "Fitting ARIMA: order=(3, 1, 1) seasonal_order=(2, 1, 2, 12); AIC=3072.623, BIC=3104.328\n",
      "Fitting ARIMA: order=(3, 1, 3) seasonal_order=(2, 1, 1, 12); AIC=3075.530, BIC=3110.405\n",
      "Fitting ARIMA: order=(3, 1, 3) seasonal_order=(1, 1, 2, 12); AIC=3075.561, BIC=3110.437\n",
      "Fitting ARIMA: order=(3, 1, 3) seasonal_order=(2, 1, 2, 12); AIC=3077.492, BIC=3115.537\n"
     ]
    },
    {
     "data": {
      "text/html": [
       "<table class=\"simpletable\">\n",
       "<caption>Statespace Model Results</caption>\n",
       "<tr>\n",
       "  <th>Dep. Variable:</th>                  <td>y</td>               <th>  No. Observations:  </th>    <td>176</td>   \n",
       "</tr>\n",
       "<tr>\n",
       "  <th>Model:</th>           <td>SARIMAX(1, 1, 2)x(0, 1, 1, 12)</td> <th>  Log Likelihood     </th> <td>-1527.386</td>\n",
       "</tr>\n",
       "<tr>\n",
       "  <th>Date:</th>                   <td>Fri, 02 Jun 2017</td>        <th>  AIC                </th> <td>3066.771</td> \n",
       "</tr>\n",
       "<tr>\n",
       "  <th>Time:</th>                       <td>12:36:29</td>            <th>  BIC                </th> <td>3085.794</td> \n",
       "</tr>\n",
       "<tr>\n",
       "  <th>Sample:</th>                         <td>0</td>               <th>  HQIC               </th> <td>3074.487</td> \n",
       "</tr>\n",
       "<tr>\n",
       "  <th></th>                             <td> - 176</td>             <th>                     </th>     <td> </td>    \n",
       "</tr>\n",
       "<tr>\n",
       "  <th>Covariance Type:</th>               <td>opg</td>              <th>                     </th>     <td> </td>    \n",
       "</tr>\n",
       "</table>\n",
       "<table class=\"simpletable\">\n",
       "<tr>\n",
       "      <td></td>         <th>coef</th>     <th>std err</th>      <th>z</th>      <th>P>|z|</th>  <th>[0.025</th>    <th>0.975]</th>  \n",
       "</tr>\n",
       "<tr>\n",
       "  <th>intercept</th> <td> -100.7446</td> <td>   72.306</td> <td>   -1.393</td> <td> 0.164</td> <td> -242.462</td> <td>   40.973</td>\n",
       "</tr>\n",
       "<tr>\n",
       "  <th>ar.L1</th>     <td>   -0.5139</td> <td>    0.390</td> <td>   -1.319</td> <td> 0.187</td> <td>   -1.278</td> <td>    0.250</td>\n",
       "</tr>\n",
       "<tr>\n",
       "  <th>ma.L1</th>     <td>   -0.0791</td> <td>    0.403</td> <td>   -0.196</td> <td> 0.844</td> <td>   -0.869</td> <td>    0.710</td>\n",
       "</tr>\n",
       "<tr>\n",
       "  <th>ma.L2</th>     <td>   -0.4438</td> <td>    0.223</td> <td>   -1.988</td> <td> 0.047</td> <td>   -0.881</td> <td>   -0.006</td>\n",
       "</tr>\n",
       "<tr>\n",
       "  <th>ma.S.L12</th>  <td>   -0.4021</td> <td>    0.054</td> <td>   -7.448</td> <td> 0.000</td> <td>   -0.508</td> <td>   -0.296</td>\n",
       "</tr>\n",
       "<tr>\n",
       "  <th>sigma2</th>    <td> 7.663e+06</td> <td>  7.3e+05</td> <td>   10.500</td> <td> 0.000</td> <td> 6.23e+06</td> <td> 9.09e+06</td>\n",
       "</tr>\n",
       "</table>\n",
       "<table class=\"simpletable\">\n",
       "<tr>\n",
       "  <th>Ljung-Box (Q):</th>          <td>48.66</td> <th>  Jarque-Bera (JB):  </th> <td>21.62</td>\n",
       "</tr>\n",
       "<tr>\n",
       "  <th>Prob(Q):</th>                <td>0.16</td>  <th>  Prob(JB):          </th> <td>0.00</td> \n",
       "</tr>\n",
       "<tr>\n",
       "  <th>Heteroskedasticity (H):</th> <td>1.18</td>  <th>  Skew:              </th> <td>-0.61</td>\n",
       "</tr>\n",
       "<tr>\n",
       "  <th>Prob(H) (two-sided):</th>    <td>0.54</td>  <th>  Kurtosis:          </th> <td>4.31</td> \n",
       "</tr>\n",
       "</table>"
      ],
      "text/plain": [
       "<class 'statsmodels.iolib.summary.Summary'>\n",
       "\"\"\"\n",
       "                                 Statespace Model Results                                 \n",
       "==========================================================================================\n",
       "Dep. Variable:                                  y   No. Observations:                  176\n",
       "Model:             SARIMAX(1, 1, 2)x(0, 1, 1, 12)   Log Likelihood               -1527.386\n",
       "Date:                            Fri, 02 Jun 2017   AIC                           3066.771\n",
       "Time:                                    12:36:29   BIC                           3085.794\n",
       "Sample:                                         0   HQIC                          3074.487\n",
       "                                            - 176                                         \n",
       "Covariance Type:                              opg                                         \n",
       "==============================================================================\n",
       "                 coef    std err          z      P>|z|      [0.025      0.975]\n",
       "------------------------------------------------------------------------------\n",
       "intercept   -100.7446     72.306     -1.393      0.164    -242.462      40.973\n",
       "ar.L1         -0.5139      0.390     -1.319      0.187      -1.278       0.250\n",
       "ma.L1         -0.0791      0.403     -0.196      0.844      -0.869       0.710\n",
       "ma.L2         -0.4438      0.223     -1.988      0.047      -0.881      -0.006\n",
       "ma.S.L12      -0.4021      0.054     -7.448      0.000      -0.508      -0.296\n",
       "sigma2      7.663e+06    7.3e+05     10.500      0.000    6.23e+06    9.09e+06\n",
       "===================================================================================\n",
       "Ljung-Box (Q):                       48.66   Jarque-Bera (JB):                21.62\n",
       "Prob(Q):                              0.16   Prob(JB):                         0.00\n",
       "Heteroskedasticity (H):               1.18   Skew:                            -0.61\n",
       "Prob(H) (two-sided):                  0.54   Kurtosis:                         4.31\n",
       "===================================================================================\n",
       "\n",
       "Warnings:\n",
       "[1] Covariance matrix calculated using the outer product of gradients (complex-step).\n",
       "[2] Covariance matrix is singular or near-singular, with condition number 8.15e+14. Standard errors may be unstable.\n",
       "\"\"\""
      ]
     },
     "execution_count": 5,
     "metadata": {},
     "output_type": "execute_result"
    }
   ],
   "source": [
    "from pyramid.arima import auto_arima\n",
    "\n",
    "fit = auto_arima(wineind, start_p=1, start_q=1, max_p=3, max_q=3, m=12,\n",
    "                 start_P=0, seasonal=True, n_jobs=-1, d=1, D=1, trace=True,\n",
    "                 error_action='ignore',  # don't want to know if an order does not work\n",
    "                 suppress_warnings=True)  # don't want convergence warnings\n",
    "\n",
    "fit.summary()"
   ]
  },
  {
   "cell_type": "markdown",
   "metadata": {},
   "source": [
    "## Predicting future values\n",
    "\n",
    "After your model is fit, you can forecast future values using the `predict` function, just like in sci-kit learn:"
   ]
  },
  {
   "cell_type": "code",
   "execution_count": 6,
   "metadata": {
    "collapsed": false
   },
   "outputs": [
    {
     "data": {
      "text/plain": [
       "array([ 21967.58977115,  25983.67393668,  30225.87927633,  35417.43402408,\n",
       "        13010.67730929,  19640.68774496,  21507.21794346,  23675.72670984,\n",
       "        21686.79194458,  23672.21601578,  26956.70419416,  22755.79165077,\n",
       "        19809.49757076,  23580.42643003,  27847.87411451,  32925.71207085,\n",
       "        10476.65058125,  17027.65713579,  18834.04336593,  20932.71593039,\n",
       "        18878.92586596,  20796.93491922,  24015.32353603,  19747.63540936,\n",
       "        16734.91315808])"
      ]
     },
     "execution_count": 6,
     "metadata": {},
     "output_type": "execute_result"
    }
   ],
   "source": [
    "next_25 = fit.predict(n_periods=25)\n",
    "next_25"
   ]
  },
  {
   "cell_type": "markdown",
   "metadata": {},
   "source": [
    "## Visualizing forecasts"
   ]
  },
  {
   "cell_type": "code",
   "execution_count": 7,
   "metadata": {
    "collapsed": false
   },
   "outputs": [
    {
     "data": {
      "text/html": [
       "\n",
       "    <div class=\"bk-root\">\n",
       "        <a href=\"http://bokeh.pydata.org\" target=\"_blank\" class=\"bk-logo bk-logo-small bk-logo-notebook\"></a>\n",
       "        <span id=\"f70c02e8-0cb9-476a-ae7e-b303861dadc3\">Loading BokehJS ...</span>\n",
       "    </div>"
      ]
     },
     "metadata": {},
     "output_type": "display_data"
    },
    {
     "data": {
      "application/javascript": [
       "\n",
       "(function(global) {\n",
       "  function now() {\n",
       "    return new Date();\n",
       "  }\n",
       "\n",
       "  if (typeof (window._bokeh_onload_callbacks) === \"undefined\") {\n",
       "    window._bokeh_onload_callbacks = [];\n",
       "  }\n",
       "\n",
       "  function run_callbacks() {\n",
       "    window._bokeh_onload_callbacks.forEach(function(callback) { callback() });\n",
       "    delete window._bokeh_onload_callbacks\n",
       "    console.info(\"Bokeh: all callbacks have finished\");\n",
       "  }\n",
       "\n",
       "  function load_libs(js_urls, callback) {\n",
       "    window._bokeh_onload_callbacks.push(callback);\n",
       "    if (window._bokeh_is_loading > 0) {\n",
       "      console.log(\"Bokeh: BokehJS is being loaded, scheduling callback at\", now());\n",
       "      return null;\n",
       "    }\n",
       "    if (js_urls == null || js_urls.length === 0) {\n",
       "      run_callbacks();\n",
       "      return null;\n",
       "    }\n",
       "    console.log(\"Bokeh: BokehJS not loaded, scheduling load and callback at\", now());\n",
       "    window._bokeh_is_loading = js_urls.length;\n",
       "    for (var i = 0; i < js_urls.length; i++) {\n",
       "      var url = js_urls[i];\n",
       "      var s = document.createElement('script');\n",
       "      s.src = url;\n",
       "      s.async = false;\n",
       "      s.onreadystatechange = s.onload = function() {\n",
       "        window._bokeh_is_loading--;\n",
       "        if (window._bokeh_is_loading === 0) {\n",
       "          console.log(\"Bokeh: all BokehJS libraries loaded\");\n",
       "          run_callbacks()\n",
       "        }\n",
       "      };\n",
       "      s.onerror = function() {\n",
       "        console.warn(\"failed to load library \" + url);\n",
       "      };\n",
       "      console.log(\"Bokeh: injecting script tag for BokehJS library: \", url);\n",
       "      document.getElementsByTagName(\"head\")[0].appendChild(s);\n",
       "    }\n",
       "  };\n",
       "\n",
       "  var js_urls = ['https://cdn.pydata.org/bokeh/release/bokeh-0.12.0.min.js', 'https://cdn.pydata.org/bokeh/release/bokeh-widgets-0.12.0.min.js', 'https://cdn.pydata.org/bokeh/release/bokeh-compiler-0.12.0.min.js'];\n",
       "\n",
       "  var inline_js = [\n",
       "    function(Bokeh) {\n",
       "      Bokeh.set_log_level(\"info\");\n",
       "    },\n",
       "    \n",
       "    function(Bokeh) {\n",
       "      Bokeh.$(\"#f70c02e8-0cb9-476a-ae7e-b303861dadc3\").text(\"BokehJS successfully loaded\");\n",
       "    },\n",
       "    function(Bokeh) {\n",
       "      console.log(\"Bokeh: injecting CSS: https://cdn.pydata.org/bokeh/release/bokeh-0.12.0.min.css\");\n",
       "      Bokeh.embed.inject_css(\"https://cdn.pydata.org/bokeh/release/bokeh-0.12.0.min.css\");\n",
       "      console.log(\"Bokeh: injecting CSS: https://cdn.pydata.org/bokeh/release/bokeh-widgets-0.12.0.min.css\");\n",
       "      Bokeh.embed.inject_css(\"https://cdn.pydata.org/bokeh/release/bokeh-widgets-0.12.0.min.css\");\n",
       "    }\n",
       "  ];\n",
       "\n",
       "  function run_inline_js() {\n",
       "    for (var i = 0; i < inline_js.length; i++) {\n",
       "      inline_js[i](window.Bokeh);\n",
       "    }\n",
       "  }\n",
       "\n",
       "  if (window._bokeh_is_loading === 0) {\n",
       "    console.log(\"Bokeh: BokehJS loaded, going straight to plotting\");\n",
       "    run_inline_js();\n",
       "  } else {\n",
       "    load_libs(js_urls, function() {\n",
       "      console.log(\"Bokeh: BokehJS plotting callback run at\", now());\n",
       "      run_inline_js();\n",
       "    });\n",
       "  }\n",
       "}(this));"
      ]
     },
     "metadata": {},
     "output_type": "display_data"
    }
   ],
   "source": [
    "from bokeh.plotting import figure, show, output_notebook\n",
    "output_notebook()"
   ]
  },
  {
   "cell_type": "code",
   "execution_count": 8,
   "metadata": {
    "collapsed": false
   },
   "outputs": [
    {
     "data": {
      "text/html": [
       "\n",
       "\n",
       "    <div class=\"bk-root\">\n",
       "        <div class=\"plotdiv\" id=\"cd9bef5d-c09a-4115-8533-42d7d05a8532\"></div>\n",
       "    </div>\n",
       "<script type=\"text/javascript\">\n",
       "  \n",
       "  (function(global) {\n",
       "    function now() {\n",
       "      return new Date();\n",
       "    }\n",
       "  \n",
       "    if (typeof (window._bokeh_onload_callbacks) === \"undefined\") {\n",
       "      window._bokeh_onload_callbacks = [];\n",
       "    }\n",
       "  \n",
       "    function run_callbacks() {\n",
       "      window._bokeh_onload_callbacks.forEach(function(callback) { callback() });\n",
       "      delete window._bokeh_onload_callbacks\n",
       "      console.info(\"Bokeh: all callbacks have finished\");\n",
       "    }\n",
       "  \n",
       "    function load_libs(js_urls, callback) {\n",
       "      window._bokeh_onload_callbacks.push(callback);\n",
       "      if (window._bokeh_is_loading > 0) {\n",
       "        console.log(\"Bokeh: BokehJS is being loaded, scheduling callback at\", now());\n",
       "        return null;\n",
       "      }\n",
       "      if (js_urls == null || js_urls.length === 0) {\n",
       "        run_callbacks();\n",
       "        return null;\n",
       "      }\n",
       "      console.log(\"Bokeh: BokehJS not loaded, scheduling load and callback at\", now());\n",
       "      window._bokeh_is_loading = js_urls.length;\n",
       "      for (var i = 0; i < js_urls.length; i++) {\n",
       "        var url = js_urls[i];\n",
       "        var s = document.createElement('script');\n",
       "        s.src = url;\n",
       "        s.async = false;\n",
       "        s.onreadystatechange = s.onload = function() {\n",
       "          window._bokeh_is_loading--;\n",
       "          if (window._bokeh_is_loading === 0) {\n",
       "            console.log(\"Bokeh: all BokehJS libraries loaded\");\n",
       "            run_callbacks()\n",
       "          }\n",
       "        };\n",
       "        s.onerror = function() {\n",
       "          console.warn(\"failed to load library \" + url);\n",
       "        };\n",
       "        console.log(\"Bokeh: injecting script tag for BokehJS library: \", url);\n",
       "        document.getElementsByTagName(\"head\")[0].appendChild(s);\n",
       "      }\n",
       "    };var element = document.getElementById(\"cd9bef5d-c09a-4115-8533-42d7d05a8532\");\n",
       "    if (element == null) {\n",
       "      console.log(\"Bokeh: ERROR: autoload.js configured with elementid 'cd9bef5d-c09a-4115-8533-42d7d05a8532' but no matching script tag was found. \")\n",
       "      return false;\n",
       "    }\n",
       "  \n",
       "    var js_urls = [];\n",
       "  \n",
       "    var inline_js = [\n",
       "      function(Bokeh) {\n",
       "        Bokeh.$(function() {\n",
       "            var docs_json = {\"e321d229-71bd-43d0-b814-72ff8f590688\":{\"roots\":{\"references\":[{\"attributes\":{\"axis_label\":\"Value\",\"formatter\":{\"id\":\"54618098-be89-4fed-8c72-4df0ab294cee\",\"type\":\"BasicTickFormatter\"},\"plot\":{\"id\":\"222caa20-8349-4d64-9f5a-b46abd000492\",\"subtype\":\"Figure\",\"type\":\"Plot\"},\"ticker\":{\"id\":\"8d916dde-6326-4d74-9941-64e57659eac2\",\"type\":\"BasicTicker\"}},\"id\":\"ac94d620-49c0-4883-9ad6-2123db0a5fc2\",\"type\":\"LinearAxis\"},{\"attributes\":{\"callback\":null},\"id\":\"48abc483-2eb8-414c-84ed-09071bb801db\",\"type\":\"DataRange1d\"},{\"attributes\":{\"callback\":null,\"column_names\":[\"y\",\"x\"],\"data\":{\"x\":[0,1,2,3,4,5,6,7,8,9,10,11,12,13,14,15,16,17,18,19,20,21,22,23,24,25,26,27,28,29,30,31,32,33,34,35,36,37,38,39,40,41,42,43,44,45,46,47,48,49,50,51,52,53,54,55,56,57,58,59,60,61,62,63,64,65,66,67,68,69,70,71,72,73,74,75,76,77,78,79,80,81,82,83,84,85,86,87,88,89,90,91,92,93,94,95,96,97,98,99,100,101,102,103,104,105,106,107,108,109,110,111,112,113,114,115,116,117,118,119,120,121,122,123,124,125,126,127,128,129,130,131,132,133,134,135,136,137,138,139,140,141,142,143,144,145,146,147,148,149,150,151,152,153,154,155,156,157,158,159,160,161,162,163,164,165,166,167,168,169,170,171,172,173,174,175],\"y\":[15136.0,16733.0,20016.0,17708.0,18019.0,19227.0,22893.0,23739.0,21133.0,22591.0,26786.0,29740.0,15028.0,17977.0,20008.0,21354.0,19498.0,22125.0,25817.0,28779.0,20960.0,22254.0,27392.0,29945.0,16933.0,17892.0,20533.0,23569.0,22417.0,22084.0,26580.0,27454.0,24081.0,23451.0,28991.0,31386.0,16896.0,20045.0,23471.0,21747.0,25621.0,23859.0,25500.0,30998.0,24475.0,23145.0,29701.0,34365.0,17556.0,22077.0,25702.0,22214.0,26886.0,23191.0,27831.0,35406.0,23195.0,25110.0,30009.0,36242.0,18450.0,21845.0,26488.0,22394.0,28057.0,25451.0,24872.0,33424.0,24052.0,28449.0,33533.0,37351.0,19969.0,21701.0,26249.0,24493.0,24603.0,26485.0,30723.0,34569.0,26689.0,26157.0,32064.0,38870.0,21337.0,19419.0,23166.0,28286.0,24570.0,24001.0,33151.0,24878.0,26804.0,28967.0,33311.0,40226.0,20504.0,23060.0,23562.0,27562.0,23940.0,24584.0,34303.0,25517.0,23494.0,29095.0,32903.0,34379.0,16991.0,21109.0,23740.0,25552.0,21752.0,20294.0,29009.0,25500.0,24166.0,26960.0,31222.0,38641.0,14672.0,17543.0,25453.0,32683.0,22449.0,22316.0,27595.0,25451.0,25421.0,25288.0,32568.0,35110.0,16052.0,22146.0,21198.0,19543.0,22084.0,23816.0,29961.0,26773.0,26635.0,26972.0,30207.0,38687.0,16974.0,21697.0,24179.0,23757.0,25013.0,24019.0,30345.0,24488.0,25156.0,25650.0,30923.0,37240.0,17466.0,19463.0,24352.0,26805.0,25236.0,24735.0,29356.0,31234.0,22724.0,28496.0,32857.0,37198.0,13652.0,22784.0,23565.0,26323.0,23779.0,27549.0,29660.0,23356.0]}},\"id\":\"f6200a33-00ec-4c97-87e1-e37bcaece7f7\",\"type\":\"ColumnDataSource\"},{\"attributes\":{\"active_drag\":\"auto\",\"active_scroll\":\"auto\",\"active_tap\":\"auto\",\"tools\":[{\"id\":\"8636ec63-04e3-4245-9500-3793f7421bcf\",\"type\":\"PanTool\"},{\"id\":\"3292b762-1b65-4cb3-9a39-ab5672dd8a61\",\"type\":\"WheelZoomTool\"},{\"id\":\"8660754d-97ce-4d80-aaf6-d126cb25ba2b\",\"type\":\"BoxZoomTool\"},{\"id\":\"f5a972ae-f0a0-4e60-800c-6b62e3beb823\",\"type\":\"SaveTool\"},{\"id\":\"f37d3059-933b-405f-b332-ac494268d77e\",\"type\":\"ResetTool\"},{\"id\":\"23c481ec-7dc7-4b56-99aa-d25478adfb7d\",\"type\":\"HelpTool\"}]},\"id\":\"d11e0d86-bf1a-42c5-8677-321161b747b8\",\"type\":\"Toolbar\"},{\"attributes\":{\"plot\":{\"id\":\"222caa20-8349-4d64-9f5a-b46abd000492\",\"subtype\":\"Figure\",\"type\":\"Plot\"}},\"id\":\"3292b762-1b65-4cb3-9a39-ab5672dd8a61\",\"type\":\"WheelZoomTool\"},{\"attributes\":{\"overlay\":{\"id\":\"a3891d7d-ea3f-4c15-8494-96ef16d8f328\",\"type\":\"BoxAnnotation\"},\"plot\":{\"id\":\"222caa20-8349-4d64-9f5a-b46abd000492\",\"subtype\":\"Figure\",\"type\":\"Plot\"}},\"id\":\"8660754d-97ce-4d80-aaf6-d126cb25ba2b\",\"type\":\"BoxZoomTool\"},{\"attributes\":{\"legends\":[[\"Observed\",[{\"id\":\"ae602a13-1a5a-4605-9cec-3499568c7142\",\"type\":\"GlyphRenderer\"}]],[\"Forecasted\",[{\"id\":\"f2ddb19c-b61b-4cc6-a140-0374b18c0ad8\",\"type\":\"GlyphRenderer\"}]]],\"plot\":{\"id\":\"222caa20-8349-4d64-9f5a-b46abd000492\",\"subtype\":\"Figure\",\"type\":\"Plot\"}},\"id\":\"b442e0be-da3e-4b50-9cbc-c0147693fe37\",\"type\":\"Legend\"},{\"attributes\":{},\"id\":\"54618098-be89-4fed-8c72-4df0ab294cee\",\"type\":\"BasicTickFormatter\"},{\"attributes\":{\"plot\":{\"id\":\"222caa20-8349-4d64-9f5a-b46abd000492\",\"subtype\":\"Figure\",\"type\":\"Plot\"}},\"id\":\"f37d3059-933b-405f-b332-ac494268d77e\",\"type\":\"ResetTool\"},{\"attributes\":{\"grid_line_alpha\":{\"value\":0.3},\"plot\":{\"id\":\"222caa20-8349-4d64-9f5a-b46abd000492\",\"subtype\":\"Figure\",\"type\":\"Plot\"},\"ticker\":{\"id\":\"e0454ff2-d442-46c7-b6dc-f05e47c0446f\",\"type\":\"BasicTicker\"}},\"id\":\"86b52f03-21be-444a-bfed-db715c8528bd\",\"type\":\"Grid\"},{\"attributes\":{\"callback\":null,\"column_names\":[\"y\",\"x\"],\"data\":{\"x\":[176,177,178,179,180,181,182,183,184,185,186,187,188,189,190,191,192,193,194,195,196,197,198,199,200],\"y\":[21967.589771152736,25983.67393667873,30225.879276325275,35417.434024077076,13010.677309294084,19640.687744963707,21507.217943456773,23675.726709840026,21686.79194457758,23672.216015776125,26956.70419416119,22755.791650770716,19809.49757076498,23580.426430032163,27847.874114508402,32925.71207085346,10476.650581246868,17027.657135790196,18834.04336592597,20932.715930393966,18878.925865964473,20796.93491922333,24015.32353602797,19747.635409358274,16734.913158082865]}},\"id\":\"cfbbc5ba-bb96-4071-ae78-89e5b7287fec\",\"type\":\"ColumnDataSource\"},{\"attributes\":{\"plot\":{\"id\":\"222caa20-8349-4d64-9f5a-b46abd000492\",\"subtype\":\"Figure\",\"type\":\"Plot\"}},\"id\":\"23c481ec-7dc7-4b56-99aa-d25478adfb7d\",\"type\":\"HelpTool\"},{\"attributes\":{},\"id\":\"8d916dde-6326-4d74-9941-64e57659eac2\",\"type\":\"BasicTicker\"},{\"attributes\":{\"bottom_units\":\"screen\",\"fill_alpha\":{\"value\":0.5},\"fill_color\":{\"value\":\"lightgrey\"},\"left_units\":\"screen\",\"level\":\"overlay\",\"line_alpha\":{\"value\":1.0},\"line_color\":{\"value\":\"black\"},\"line_dash\":[4,4],\"line_width\":{\"value\":2},\"plot\":null,\"render_mode\":\"css\",\"right_units\":\"screen\",\"top_units\":\"screen\"},\"id\":\"a3891d7d-ea3f-4c15-8494-96ef16d8f328\",\"type\":\"BoxAnnotation\"},{\"attributes\":{\"data_source\":{\"id\":\"f6200a33-00ec-4c97-87e1-e37bcaece7f7\",\"type\":\"ColumnDataSource\"},\"glyph\":{\"id\":\"fd4f9e4d-c361-4a9c-8cac-1021f0455c6b\",\"type\":\"Line\"},\"hover_glyph\":null,\"nonselection_glyph\":{\"id\":\"7d76b624-54a1-4563-ba52-81dcd7288a20\",\"type\":\"Line\"},\"selection_glyph\":null},\"id\":\"ae602a13-1a5a-4605-9cec-3499568c7142\",\"type\":\"GlyphRenderer\"},{\"attributes\":{\"below\":[{\"id\":\"7362d227-a14b-4bbb-9835-094d2629324b\",\"type\":\"LinearAxis\"}],\"left\":[{\"id\":\"ac94d620-49c0-4883-9ad6-2123db0a5fc2\",\"type\":\"LinearAxis\"}],\"plot_height\":400,\"renderers\":[{\"id\":\"7362d227-a14b-4bbb-9835-094d2629324b\",\"type\":\"LinearAxis\"},{\"id\":\"86b52f03-21be-444a-bfed-db715c8528bd\",\"type\":\"Grid\"},{\"id\":\"ac94d620-49c0-4883-9ad6-2123db0a5fc2\",\"type\":\"LinearAxis\"},{\"id\":\"0244ea7d-e39a-4560-a0fb-481a3937f7dc\",\"type\":\"Grid\"},{\"id\":\"a3891d7d-ea3f-4c15-8494-96ef16d8f328\",\"type\":\"BoxAnnotation\"},{\"id\":\"b442e0be-da3e-4b50-9cbc-c0147693fe37\",\"type\":\"Legend\"},{\"id\":\"ae602a13-1a5a-4605-9cec-3499568c7142\",\"type\":\"GlyphRenderer\"},{\"id\":\"f2ddb19c-b61b-4cc6-a140-0374b18c0ad8\",\"type\":\"GlyphRenderer\"}],\"title\":{\"id\":\"ff526b57-c66e-4f10-8ee9-8092f9b96be3\",\"type\":\"Title\"},\"tool_events\":{\"id\":\"ba5859d9-434c-45f1-b9b3-e7fac9395b74\",\"type\":\"ToolEvents\"},\"toolbar\":{\"id\":\"d11e0d86-bf1a-42c5-8677-321161b747b8\",\"type\":\"Toolbar\"},\"x_range\":{\"id\":\"48abc483-2eb8-414c-84ed-09071bb801db\",\"type\":\"DataRange1d\"},\"y_range\":{\"id\":\"82f0c130-fb55-413d-93d5-5f7fcb17ef2a\",\"type\":\"DataRange1d\"}},\"id\":\"222caa20-8349-4d64-9f5a-b46abd000492\",\"subtype\":\"Figure\",\"type\":\"Plot\"},{\"attributes\":{},\"id\":\"0fb807d2-871c-4344-b3ab-b4d8b713cba7\",\"type\":\"BasicTickFormatter\"},{\"attributes\":{\"line_color\":{\"value\":\"#A6CEE3\"},\"x\":{\"field\":\"x\"},\"y\":{\"field\":\"y\"}},\"id\":\"fd4f9e4d-c361-4a9c-8cac-1021f0455c6b\",\"type\":\"Line\"},{\"attributes\":{\"dimension\":1,\"grid_line_alpha\":{\"value\":0.3},\"plot\":{\"id\":\"222caa20-8349-4d64-9f5a-b46abd000492\",\"subtype\":\"Figure\",\"type\":\"Plot\"},\"ticker\":{\"id\":\"8d916dde-6326-4d74-9941-64e57659eac2\",\"type\":\"BasicTicker\"}},\"id\":\"0244ea7d-e39a-4560-a0fb-481a3937f7dc\",\"type\":\"Grid\"},{\"attributes\":{},\"id\":\"e0454ff2-d442-46c7-b6dc-f05e47c0446f\",\"type\":\"BasicTicker\"},{\"attributes\":{\"line_alpha\":{\"value\":0.1},\"line_color\":{\"value\":\"#1f77b4\"},\"x\":{\"field\":\"x\"},\"y\":{\"field\":\"y\"}},\"id\":\"44255dc0-f43a-4364-8347-fbe4359a33ec\",\"type\":\"Line\"},{\"attributes\":{\"callback\":null},\"id\":\"82f0c130-fb55-413d-93d5-5f7fcb17ef2a\",\"type\":\"DataRange1d\"},{\"attributes\":{\"data_source\":{\"id\":\"cfbbc5ba-bb96-4071-ae78-89e5b7287fec\",\"type\":\"ColumnDataSource\"},\"glyph\":{\"id\":\"06be8c48-7c76-464c-8450-af8d944ad424\",\"type\":\"Line\"},\"hover_glyph\":null,\"nonselection_glyph\":{\"id\":\"44255dc0-f43a-4364-8347-fbe4359a33ec\",\"type\":\"Line\"},\"selection_glyph\":null},\"id\":\"f2ddb19c-b61b-4cc6-a140-0374b18c0ad8\",\"type\":\"GlyphRenderer\"},{\"attributes\":{\"plot\":{\"id\":\"222caa20-8349-4d64-9f5a-b46abd000492\",\"subtype\":\"Figure\",\"type\":\"Plot\"}},\"id\":\"8636ec63-04e3-4245-9500-3793f7421bcf\",\"type\":\"PanTool\"},{\"attributes\":{\"line_color\":{\"value\":\"#B2DF8A\"},\"x\":{\"field\":\"x\"},\"y\":{\"field\":\"y\"}},\"id\":\"06be8c48-7c76-464c-8450-af8d944ad424\",\"type\":\"Line\"},{\"attributes\":{\"axis_label\":\"Time\",\"formatter\":{\"id\":\"0fb807d2-871c-4344-b3ab-b4d8b713cba7\",\"type\":\"BasicTickFormatter\"},\"plot\":{\"id\":\"222caa20-8349-4d64-9f5a-b46abd000492\",\"subtype\":\"Figure\",\"type\":\"Plot\"},\"ticker\":{\"id\":\"e0454ff2-d442-46c7-b6dc-f05e47c0446f\",\"type\":\"BasicTicker\"}},\"id\":\"7362d227-a14b-4bbb-9835-094d2629324b\",\"type\":\"LinearAxis\"},{\"attributes\":{},\"id\":\"ba5859d9-434c-45f1-b9b3-e7fac9395b74\",\"type\":\"ToolEvents\"},{\"attributes\":{\"line_alpha\":{\"value\":0.1},\"line_color\":{\"value\":\"#1f77b4\"},\"x\":{\"field\":\"x\"},\"y\":{\"field\":\"y\"}},\"id\":\"7d76b624-54a1-4563-ba52-81dcd7288a20\",\"type\":\"Line\"},{\"attributes\":{\"plot\":{\"id\":\"222caa20-8349-4d64-9f5a-b46abd000492\",\"subtype\":\"Figure\",\"type\":\"Plot\"}},\"id\":\"f5a972ae-f0a0-4e60-800c-6b62e3beb823\",\"type\":\"SaveTool\"},{\"attributes\":{\"plot\":null,\"text\":\"Forecasted values\"},\"id\":\"ff526b57-c66e-4f10-8ee9-8092f9b96be3\",\"type\":\"Title\"}],\"root_ids\":[\"222caa20-8349-4d64-9f5a-b46abd000492\"]},\"title\":\"Bokeh Application\",\"version\":\"0.12.0\"}};\n",
       "            var render_items = [{\"docid\":\"e321d229-71bd-43d0-b814-72ff8f590688\",\"elementid\":\"cd9bef5d-c09a-4115-8533-42d7d05a8532\",\"modelid\":\"222caa20-8349-4d64-9f5a-b46abd000492\",\"notebook_comms_target\":\"b1fbb03a-a317-450a-8b04-343e19a1c5af\"}];\n",
       "            \n",
       "            Bokeh.embed.embed_items(docs_json, render_items);\n",
       "        });\n",
       "      },\n",
       "      function(Bokeh) {\n",
       "      }\n",
       "    ];\n",
       "  \n",
       "    function run_inline_js() {\n",
       "      for (var i = 0; i < inline_js.length; i++) {\n",
       "        inline_js[i](window.Bokeh);\n",
       "      }\n",
       "    }\n",
       "  \n",
       "    if (window._bokeh_is_loading === 0) {\n",
       "      console.log(\"Bokeh: BokehJS loaded, going straight to plotting\");\n",
       "      run_inline_js();\n",
       "    } else {\n",
       "      load_libs(js_urls, function() {\n",
       "        console.log(\"Bokeh: BokehJS plotting callback run at\", now());\n",
       "        run_inline_js();\n",
       "      });\n",
       "    }\n",
       "  }(this));\n",
       "</script>"
      ]
     },
     "metadata": {},
     "output_type": "display_data"
    },
    {
     "data": {
      "text/html": [
       "<p><code>&lt;Bokeh Notebook handle for <strong>In[8]</strong>&gt;</code></p>"
      ],
      "text/plain": [
       "<bokeh.io._CommsHandle at 0x1162bff50>"
      ]
     },
     "execution_count": 8,
     "metadata": {},
     "output_type": "execute_result"
    }
   ],
   "source": [
    "import pandas as pd\n",
    "\n",
    "def plot_arima(truth, forecasts, title=\"Forecasted values\", xaxis_label='Time',\n",
    "               yaxis_label='Value', c1='#A6CEE3', c2='#B2DF8A', **kwargs):\n",
    "    \n",
    "    # make truth and forecasts into pandas series\n",
    "    n_truth = truth.shape[0]\n",
    "    n_forecasts = forecasts.shape[0]\n",
    "    \n",
    "    truth = pd.Series(truth, index=np.arange(truth.shape[0]))\n",
    "    forecasts = pd.Series(forecasts, index=np.arange(n_truth, n_truth + n_forecasts))\n",
    "    \n",
    "    # set up the plot\n",
    "    p = figure(title=title, plot_height=400, **kwargs)\n",
    "    p.grid.grid_line_alpha=0.3\n",
    "    p.xaxis.axis_label = xaxis_label\n",
    "    p.yaxis.axis_label = yaxis_label\n",
    "    \n",
    "    # add the lines\n",
    "    p.line(truth.index, truth.values, color=c1, legend='Observed')\n",
    "    p.line(forecasts.index, forecasts.values, color=c2, legend='Forecasted')\n",
    "    \n",
    "    return p\n",
    "    \n",
    "# call the plotting func\n",
    "show(plot_arima(wineind, next_25))"
   ]
  },
  {
   "cell_type": "markdown",
   "metadata": {},
   "source": [
    "(Github does not render the Bokeh output, so here's the image that's generated from the above code):\n",
    "\n",
    "![Bokeh output](quick_start_output.png)"
   ]
  },
  {
   "cell_type": "code",
   "execution_count": null,
   "metadata": {
    "collapsed": true
   },
   "outputs": [],
   "source": []
  }
 ],
 "metadata": {
  "anaconda-cloud": {},
  "kernelspec": {
   "display_name": "Python [Root]",
   "language": "python",
   "name": "Python [Root]"
  },
  "language_info": {
   "codemirror_mode": {
    "name": "ipython",
    "version": 2
   },
   "file_extension": ".py",
   "mimetype": "text/x-python",
   "name": "python",
   "nbconvert_exporter": "python",
   "pygments_lexer": "ipython2",
   "version": "2.7.12"
  }
 },
 "nbformat": 4,
 "nbformat_minor": 0
}
