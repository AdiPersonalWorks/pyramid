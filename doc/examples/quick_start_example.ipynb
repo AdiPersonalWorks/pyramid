{
 "cells": [
  {
   "cell_type": "markdown",
   "metadata": {},
   "source": [
    "# `auto_arima`\n",
    "\n",
    "Pyramid bring R's [`auto.arima`](https://www.rdocumentation.org/packages/forecast/versions/7.3/topics/auto.arima) functionality to Python by wrapping statsmodel [`ARIMA`](https://github.com/statsmodels/statsmodels/blob/master/statsmodels/tsa/arima_model.py) and [`SARIMAX`](https://github.com/statsmodels/statsmodels/blob/master/statsmodels/tsa/statespace/sarimax.py) models into a singular scikit-learn-esque estimator ([`pyramid.arima.ARIMA`](https://github.com/tgsmith61591/pyramid/blob/master/pyramid/arima/arima.py)) and adding several layers of degree and seasonal differencing tests to identify the optimal model parameters.\n",
    "\n",
    "__Pyramid ARIMA models:__\n",
    "\n",
    "  - Are fully picklable for easy persistence and model deployment\n",
    "  - Can handle seasonal terms (unlike statsmodels ARIMAs)\n",
    "  - Follow sklearn model fit/predict conventions"
   ]
  },
  {
   "cell_type": "code",
   "execution_count": 1,
   "metadata": {
    "collapsed": false
   },
   "outputs": [
    {
     "name": "stdout",
     "output_type": "stream",
     "text": [
      "numpy version: '1.11.3'\n",
      "pyramid version: '0.1'\n"
     ]
    }
   ],
   "source": [
    "import numpy as np\n",
    "import pyramid\n",
    "\n",
    "print('numpy version: %r' % np.__version__)\n",
    "print('pyramid version: %r' % pyramid.__version__)"
   ]
  },
  {
   "cell_type": "markdown",
   "metadata": {},
   "source": [
    "We'll start by defining an array of data from an R time-series, `wineind`:\n",
    "\n",
    "```r\n",
    "> forecast::wineind\n",
    "       Jan   Feb   Mar   Apr   May   Jun   Jul   Aug   Sep   Oct   Nov   Dec\n",
    "1980 15136 16733 20016 17708 18019 19227 22893 23739 21133 22591 26786 29740\n",
    "1981 15028 17977 20008 21354 19498 22125 25817 28779 20960 22254 27392 29945\n",
    "1982 16933 17892 20533 23569 22417 22084 26580 27454 24081 23451 28991 31386\n",
    "1983 16896 20045 23471 21747 25621 23859 25500 30998 24475 23145 29701 34365\n",
    "1984 17556 22077 25702 22214 26886 23191 27831 35406 23195 25110 30009 36242\n",
    "1985 18450 21845 26488 22394 28057 25451 24872 33424 24052 28449 33533 37351\n",
    "1986 19969 21701 26249 24493 24603 26485 30723 34569 26689 26157 32064 38870\n",
    "1987 21337 19419 23166 28286 24570 24001 33151 24878 26804 28967 33311 40226\n",
    "1988 20504 23060 23562 27562 23940 24584 34303 25517 23494 29095 32903 34379\n",
    "1989 16991 21109 23740 25552 21752 20294 29009 25500 24166 26960 31222 38641\n",
    "1990 14672 17543 25453 32683 22449 22316 27595 25451 25421 25288 32568 35110\n",
    "1991 16052 22146 21198 19543 22084 23816 29961 26773 26635 26972 30207 38687\n",
    "1992 16974 21697 24179 23757 25013 24019 30345 24488 25156 25650 30923 37240\n",
    "1993 17466 19463 24352 26805 25236 24735 29356 31234 22724 28496 32857 37198\n",
    "1994 13652 22784 23565 26323 23779 27549 29660 23356\n",
    "```\n",
    "\n",
    "Note that the frequency of the data is 12:\n",
    "\n",
    "```r\n",
    "> frequency(forecast::wineind)\n",
    "[1] 12\n",
    "```"
   ]
  },
  {
   "cell_type": "code",
   "execution_count": 2,
   "metadata": {
    "collapsed": true
   },
   "outputs": [],
   "source": [
    "# this is a dataset from R\n",
    "wineind = np.array([\n",
    "    15136, 16733, 20016, 17708, 18019, 19227, 22893, 23739, 21133, 22591, 26786, 29740, \n",
    "    15028, 17977, 20008, 21354, 19498, 22125, 25817, 28779, 20960, 22254, 27392, 29945, \n",
    "    16933, 17892, 20533, 23569, 22417, 22084, 26580, 27454, 24081, 23451, 28991, 31386, \n",
    "    16896, 20045, 23471, 21747, 25621, 23859, 25500, 30998, 24475, 23145, 29701, 34365, \n",
    "    17556, 22077, 25702, 22214, 26886, 23191, 27831, 35406, 23195, 25110, 30009, 36242, \n",
    "    18450, 21845, 26488, 22394, 28057, 25451, 24872, 33424, 24052, 28449, 33533, 37351, \n",
    "    19969, 21701, 26249, 24493, 24603, 26485, 30723, 34569, 26689, 26157, 32064, 38870, \n",
    "    21337, 19419, 23166, 28286, 24570, 24001, 33151, 24878, 26804, 28967, 33311, 40226, \n",
    "    20504, 23060, 23562, 27562, 23940, 24584, 34303, 25517, 23494, 29095, 32903, 34379, \n",
    "    16991, 21109, 23740, 25552, 21752, 20294, 29009, 25500, 24166, 26960, 31222, 38641, \n",
    "    14672, 17543, 25453, 32683, 22449, 22316, 27595, 25451, 25421, 25288, 32568, 35110, \n",
    "    16052, 22146, 21198, 19543, 22084, 23816, 29961, 26773, 26635, 26972, 30207, 38687, \n",
    "    16974, 21697, 24179, 23757, 25013, 24019, 30345, 24488, 25156, 25650, 30923, 37240, \n",
    "    17466, 19463, 24352, 26805, 25236, 24735, 29356, 31234, 22724, 28496, 32857, 37198, \n",
    "    13652, 22784, 23565, 26323, 23779, 27549, 29660, 23356]\n",
    ").astype(np.float64)"
   ]
  },
  {
   "cell_type": "markdown",
   "metadata": {},
   "source": [
    "## Fitting an ARIMA\n",
    "\n",
    "We will first fit a seasonal ARIMA. Note that you do not need to call `auto_arima` in order to fit a model&mdash;if you know the order and seasonality of your data, you can simply fit an ARIMA with the defined hyper-parameters:"
   ]
  },
  {
   "cell_type": "code",
   "execution_count": 3,
   "metadata": {
    "collapsed": false
   },
   "outputs": [],
   "source": [
    "from pyramid.arima import ARIMA\n",
    "\n",
    "fit = ARIMA(order=(1, 1, 1), seasonal_order=(0, 1, 1, 12)).fit(y=wineind)"
   ]
  },
  {
   "cell_type": "markdown",
   "metadata": {},
   "source": [
    "Note that your data does not have to exhibit seasonality to work with an ARIMA. We could fit an ARIMA against the same data with no seasonal terms whatsoever (but it is unlikely that it will perform better; quite the opposite, likely)."
   ]
  },
  {
   "cell_type": "code",
   "execution_count": 4,
   "metadata": {
    "collapsed": false
   },
   "outputs": [],
   "source": [
    "fit = ARIMA(order=(1, 1, 1), seasonal_order=None).fit(y=wineind)"
   ]
  },
  {
   "cell_type": "markdown",
   "metadata": {},
   "source": [
    "## Finding the optimal model hyper-parameters using `auto_arima`:\n",
    "\n",
    "If you are unsure (as is common) of the best parameters for your model, let `auto_arima` figure it out for you. `auto_arima` is similar to an ARIMA-specific grid search. Note that it is possible for `auto_arima` not to find a model that will converge; if this is the case, it will raise a `ValueError`."
   ]
  },
  {
   "cell_type": "code",
   "execution_count": 5,
   "metadata": {
    "collapsed": false
   },
   "outputs": [
    {
     "data": {
      "text/html": [
       "<table class=\"simpletable\">\n",
       "<caption>Statespace Model Results</caption>\n",
       "<tr>\n",
       "  <th>Dep. Variable:</th>                  <td>y</td>               <th>  No. Observations:  </th>    <td>176</td>   \n",
       "</tr>\n",
       "<tr>\n",
       "  <th>Model:</th>           <td>SARIMAX(1, 1, 2)x(0, 1, 1, 12)</td> <th>  Log Likelihood     </th> <td>-1527.386</td>\n",
       "</tr>\n",
       "<tr>\n",
       "  <th>Date:</th>                   <td>Fri, 02 Jun 2017</td>        <th>  AIC                </th> <td>3066.771</td> \n",
       "</tr>\n",
       "<tr>\n",
       "  <th>Time:</th>                       <td>11:21:21</td>            <th>  BIC                </th> <td>3085.794</td> \n",
       "</tr>\n",
       "<tr>\n",
       "  <th>Sample:</th>                         <td>0</td>               <th>  HQIC               </th> <td>3074.487</td> \n",
       "</tr>\n",
       "<tr>\n",
       "  <th></th>                             <td> - 176</td>             <th>                     </th>     <td> </td>    \n",
       "</tr>\n",
       "<tr>\n",
       "  <th>Covariance Type:</th>               <td>opg</td>              <th>                     </th>     <td> </td>    \n",
       "</tr>\n",
       "</table>\n",
       "<table class=\"simpletable\">\n",
       "<tr>\n",
       "      <td></td>         <th>coef</th>     <th>std err</th>      <th>z</th>      <th>P>|z|</th>  <th>[0.025</th>    <th>0.975]</th>  \n",
       "</tr>\n",
       "<tr>\n",
       "  <th>intercept</th> <td> -100.7446</td> <td>   72.306</td> <td>   -1.393</td> <td> 0.164</td> <td> -242.462</td> <td>   40.973</td>\n",
       "</tr>\n",
       "<tr>\n",
       "  <th>ar.L1</th>     <td>   -0.5139</td> <td>    0.390</td> <td>   -1.319</td> <td> 0.187</td> <td>   -1.278</td> <td>    0.250</td>\n",
       "</tr>\n",
       "<tr>\n",
       "  <th>ma.L1</th>     <td>   -0.0791</td> <td>    0.403</td> <td>   -0.196</td> <td> 0.844</td> <td>   -0.869</td> <td>    0.710</td>\n",
       "</tr>\n",
       "<tr>\n",
       "  <th>ma.L2</th>     <td>   -0.4438</td> <td>    0.223</td> <td>   -1.988</td> <td> 0.047</td> <td>   -0.881</td> <td>   -0.006</td>\n",
       "</tr>\n",
       "<tr>\n",
       "  <th>ma.S.L12</th>  <td>   -0.4021</td> <td>    0.054</td> <td>   -7.448</td> <td> 0.000</td> <td>   -0.508</td> <td>   -0.296</td>\n",
       "</tr>\n",
       "<tr>\n",
       "  <th>sigma2</th>    <td> 7.663e+06</td> <td>  7.3e+05</td> <td>   10.500</td> <td> 0.000</td> <td> 6.23e+06</td> <td> 9.09e+06</td>\n",
       "</tr>\n",
       "</table>\n",
       "<table class=\"simpletable\">\n",
       "<tr>\n",
       "  <th>Ljung-Box (Q):</th>          <td>48.66</td> <th>  Jarque-Bera (JB):  </th> <td>21.62</td>\n",
       "</tr>\n",
       "<tr>\n",
       "  <th>Prob(Q):</th>                <td>0.16</td>  <th>  Prob(JB):          </th> <td>0.00</td> \n",
       "</tr>\n",
       "<tr>\n",
       "  <th>Heteroskedasticity (H):</th> <td>1.18</td>  <th>  Skew:              </th> <td>-0.61</td>\n",
       "</tr>\n",
       "<tr>\n",
       "  <th>Prob(H) (two-sided):</th>    <td>0.54</td>  <th>  Kurtosis:          </th> <td>4.31</td> \n",
       "</tr>\n",
       "</table>"
      ],
      "text/plain": [
       "<class 'statsmodels.iolib.summary.Summary'>\n",
       "\"\"\"\n",
       "                                 Statespace Model Results                                 \n",
       "==========================================================================================\n",
       "Dep. Variable:                                  y   No. Observations:                  176\n",
       "Model:             SARIMAX(1, 1, 2)x(0, 1, 1, 12)   Log Likelihood               -1527.386\n",
       "Date:                            Fri, 02 Jun 2017   AIC                           3066.771\n",
       "Time:                                    11:21:21   BIC                           3085.794\n",
       "Sample:                                         0   HQIC                          3074.487\n",
       "                                            - 176                                         \n",
       "Covariance Type:                              opg                                         \n",
       "==============================================================================\n",
       "                 coef    std err          z      P>|z|      [0.025      0.975]\n",
       "------------------------------------------------------------------------------\n",
       "intercept   -100.7446     72.306     -1.393      0.164    -242.462      40.973\n",
       "ar.L1         -0.5139      0.390     -1.319      0.187      -1.278       0.250\n",
       "ma.L1         -0.0791      0.403     -0.196      0.844      -0.869       0.710\n",
       "ma.L2         -0.4438      0.223     -1.988      0.047      -0.881      -0.006\n",
       "ma.S.L12      -0.4021      0.054     -7.448      0.000      -0.508      -0.296\n",
       "sigma2      7.663e+06    7.3e+05     10.500      0.000    6.23e+06    9.09e+06\n",
       "===================================================================================\n",
       "Ljung-Box (Q):                       48.66   Jarque-Bera (JB):                21.62\n",
       "Prob(Q):                              0.16   Prob(JB):                         0.00\n",
       "Heteroskedasticity (H):               1.18   Skew:                            -0.61\n",
       "Prob(H) (two-sided):                  0.54   Kurtosis:                         4.31\n",
       "===================================================================================\n",
       "\n",
       "Warnings:\n",
       "[1] Covariance matrix calculated using the outer product of gradients (complex-step).\n",
       "[2] Covariance matrix is singular or near-singular, with condition number 8.15e+14. Standard errors may be unstable.\n",
       "\"\"\""
      ]
     },
     "execution_count": 5,
     "metadata": {},
     "output_type": "execute_result"
    }
   ],
   "source": [
    "from pyramid.arima import auto_arima\n",
    "\n",
    "fit = auto_arima(wineind, start_p=1, start_q=1, max_p=3, max_q=3, m=12,\n",
    "                 start_P=0, seasonal=True, n_jobs=-1, d=1, D=1,\n",
    "                 error_action='ignore',  # don't want to know if an order does not work\n",
    "                 suppress_warnings=True)  # don't want convergence warnings\n",
    "\n",
    "fit.summary()"
   ]
  },
  {
   "cell_type": "markdown",
   "metadata": {},
   "source": [
    "## Predicting future values\n",
    "\n",
    "After your model is fit, you can forecast future values using the `predict` function, just like in sci-kit learn:"
   ]
  },
  {
   "cell_type": "code",
   "execution_count": 9,
   "metadata": {
    "collapsed": false
   },
   "outputs": [
    {
     "data": {
      "text/plain": [
       "array([ 21967.58977115,  25983.67393668,  30225.87927633,  35417.43402408,\n",
       "        13010.67730929,  19640.68774496,  21507.21794346,  23675.72670984,\n",
       "        21686.79194458,  23672.21601578,  26956.70419416,  22755.79165077,\n",
       "        19809.49757076,  23580.42643003,  27847.87411451,  32925.71207085,\n",
       "        10476.65058125,  17027.65713579,  18834.04336593,  20932.71593039,\n",
       "        18878.92586596,  20796.93491922,  24015.32353603,  19747.63540936,\n",
       "        16734.91315808])"
      ]
     },
     "execution_count": 9,
     "metadata": {},
     "output_type": "execute_result"
    }
   ],
   "source": [
    "next_25 = fit.predict(n_periods=25)\n",
    "next_25"
   ]
  },
  {
   "cell_type": "markdown",
   "metadata": {},
   "source": [
    "## Visualizing forecasts"
   ]
  },
  {
   "cell_type": "code",
   "execution_count": 10,
   "metadata": {
    "collapsed": false
   },
   "outputs": [
    {
     "data": {
      "text/html": [
       "\n",
       "    <div class=\"bk-root\">\n",
       "        <a href=\"http://bokeh.pydata.org\" target=\"_blank\" class=\"bk-logo bk-logo-small bk-logo-notebook\"></a>\n",
       "        <span id=\"a51e80eb-f243-47bc-b27f-f826f0820889\">Loading BokehJS ...</span>\n",
       "    </div>"
      ]
     },
     "metadata": {},
     "output_type": "display_data"
    },
    {
     "data": {
      "application/javascript": [
       "\n",
       "(function(global) {\n",
       "  function now() {\n",
       "    return new Date();\n",
       "  }\n",
       "\n",
       "  if (typeof (window._bokeh_onload_callbacks) === \"undefined\") {\n",
       "    window._bokeh_onload_callbacks = [];\n",
       "  }\n",
       "\n",
       "  function run_callbacks() {\n",
       "    window._bokeh_onload_callbacks.forEach(function(callback) { callback() });\n",
       "    delete window._bokeh_onload_callbacks\n",
       "    console.info(\"Bokeh: all callbacks have finished\");\n",
       "  }\n",
       "\n",
       "  function load_libs(js_urls, callback) {\n",
       "    window._bokeh_onload_callbacks.push(callback);\n",
       "    if (window._bokeh_is_loading > 0) {\n",
       "      console.log(\"Bokeh: BokehJS is being loaded, scheduling callback at\", now());\n",
       "      return null;\n",
       "    }\n",
       "    if (js_urls == null || js_urls.length === 0) {\n",
       "      run_callbacks();\n",
       "      return null;\n",
       "    }\n",
       "    console.log(\"Bokeh: BokehJS not loaded, scheduling load and callback at\", now());\n",
       "    window._bokeh_is_loading = js_urls.length;\n",
       "    for (var i = 0; i < js_urls.length; i++) {\n",
       "      var url = js_urls[i];\n",
       "      var s = document.createElement('script');\n",
       "      s.src = url;\n",
       "      s.async = false;\n",
       "      s.onreadystatechange = s.onload = function() {\n",
       "        window._bokeh_is_loading--;\n",
       "        if (window._bokeh_is_loading === 0) {\n",
       "          console.log(\"Bokeh: all BokehJS libraries loaded\");\n",
       "          run_callbacks()\n",
       "        }\n",
       "      };\n",
       "      s.onerror = function() {\n",
       "        console.warn(\"failed to load library \" + url);\n",
       "      };\n",
       "      console.log(\"Bokeh: injecting script tag for BokehJS library: \", url);\n",
       "      document.getElementsByTagName(\"head\")[0].appendChild(s);\n",
       "    }\n",
       "  };\n",
       "\n",
       "  var js_urls = ['https://cdn.pydata.org/bokeh/release/bokeh-0.12.0.min.js', 'https://cdn.pydata.org/bokeh/release/bokeh-widgets-0.12.0.min.js', 'https://cdn.pydata.org/bokeh/release/bokeh-compiler-0.12.0.min.js'];\n",
       "\n",
       "  var inline_js = [\n",
       "    function(Bokeh) {\n",
       "      Bokeh.set_log_level(\"info\");\n",
       "    },\n",
       "    \n",
       "    function(Bokeh) {\n",
       "      Bokeh.$(\"#a51e80eb-f243-47bc-b27f-f826f0820889\").text(\"BokehJS successfully loaded\");\n",
       "    },\n",
       "    function(Bokeh) {\n",
       "      console.log(\"Bokeh: injecting CSS: https://cdn.pydata.org/bokeh/release/bokeh-0.12.0.min.css\");\n",
       "      Bokeh.embed.inject_css(\"https://cdn.pydata.org/bokeh/release/bokeh-0.12.0.min.css\");\n",
       "      console.log(\"Bokeh: injecting CSS: https://cdn.pydata.org/bokeh/release/bokeh-widgets-0.12.0.min.css\");\n",
       "      Bokeh.embed.inject_css(\"https://cdn.pydata.org/bokeh/release/bokeh-widgets-0.12.0.min.css\");\n",
       "    }\n",
       "  ];\n",
       "\n",
       "  function run_inline_js() {\n",
       "    for (var i = 0; i < inline_js.length; i++) {\n",
       "      inline_js[i](window.Bokeh);\n",
       "    }\n",
       "  }\n",
       "\n",
       "  if (window._bokeh_is_loading === 0) {\n",
       "    console.log(\"Bokeh: BokehJS loaded, going straight to plotting\");\n",
       "    run_inline_js();\n",
       "  } else {\n",
       "    load_libs(js_urls, function() {\n",
       "      console.log(\"Bokeh: BokehJS plotting callback run at\", now());\n",
       "      run_inline_js();\n",
       "    });\n",
       "  }\n",
       "}(this));"
      ]
     },
     "metadata": {},
     "output_type": "display_data"
    }
   ],
   "source": [
    "from bokeh.plotting import figure, show, output_notebook\n",
    "output_notebook()"
   ]
  },
  {
   "cell_type": "code",
   "execution_count": 11,
   "metadata": {
    "collapsed": false
   },
   "outputs": [
    {
     "data": {
      "text/html": [
       "\n",
       "\n",
       "    <div class=\"bk-root\">\n",
       "        <div class=\"plotdiv\" id=\"4037d22e-c612-4597-a8b2-8911338b5703\"></div>\n",
       "    </div>\n",
       "<script type=\"text/javascript\">\n",
       "  \n",
       "  (function(global) {\n",
       "    function now() {\n",
       "      return new Date();\n",
       "    }\n",
       "  \n",
       "    if (typeof (window._bokeh_onload_callbacks) === \"undefined\") {\n",
       "      window._bokeh_onload_callbacks = [];\n",
       "    }\n",
       "  \n",
       "    function run_callbacks() {\n",
       "      window._bokeh_onload_callbacks.forEach(function(callback) { callback() });\n",
       "      delete window._bokeh_onload_callbacks\n",
       "      console.info(\"Bokeh: all callbacks have finished\");\n",
       "    }\n",
       "  \n",
       "    function load_libs(js_urls, callback) {\n",
       "      window._bokeh_onload_callbacks.push(callback);\n",
       "      if (window._bokeh_is_loading > 0) {\n",
       "        console.log(\"Bokeh: BokehJS is being loaded, scheduling callback at\", now());\n",
       "        return null;\n",
       "      }\n",
       "      if (js_urls == null || js_urls.length === 0) {\n",
       "        run_callbacks();\n",
       "        return null;\n",
       "      }\n",
       "      console.log(\"Bokeh: BokehJS not loaded, scheduling load and callback at\", now());\n",
       "      window._bokeh_is_loading = js_urls.length;\n",
       "      for (var i = 0; i < js_urls.length; i++) {\n",
       "        var url = js_urls[i];\n",
       "        var s = document.createElement('script');\n",
       "        s.src = url;\n",
       "        s.async = false;\n",
       "        s.onreadystatechange = s.onload = function() {\n",
       "          window._bokeh_is_loading--;\n",
       "          if (window._bokeh_is_loading === 0) {\n",
       "            console.log(\"Bokeh: all BokehJS libraries loaded\");\n",
       "            run_callbacks()\n",
       "          }\n",
       "        };\n",
       "        s.onerror = function() {\n",
       "          console.warn(\"failed to load library \" + url);\n",
       "        };\n",
       "        console.log(\"Bokeh: injecting script tag for BokehJS library: \", url);\n",
       "        document.getElementsByTagName(\"head\")[0].appendChild(s);\n",
       "      }\n",
       "    };var element = document.getElementById(\"4037d22e-c612-4597-a8b2-8911338b5703\");\n",
       "    if (element == null) {\n",
       "      console.log(\"Bokeh: ERROR: autoload.js configured with elementid '4037d22e-c612-4597-a8b2-8911338b5703' but no matching script tag was found. \")\n",
       "      return false;\n",
       "    }\n",
       "  \n",
       "    var js_urls = [];\n",
       "  \n",
       "    var inline_js = [\n",
       "      function(Bokeh) {\n",
       "        Bokeh.$(function() {\n",
       "            var docs_json = {\"6e70c0f6-16b3-4f72-8c84-984a120c0233\":{\"roots\":{\"references\":[{\"attributes\":{},\"id\":\"12de3736-9453-407d-bcbd-7f3e119af32e\",\"type\":\"ToolEvents\"},{\"attributes\":{\"plot\":{\"id\":\"e6e6189a-30d7-4f88-92fc-bf940ebf0dd7\",\"subtype\":\"Figure\",\"type\":\"Plot\"}},\"id\":\"d19be8e2-45ac-4028-bf46-7000ec1f2549\",\"type\":\"PanTool\"},{\"attributes\":{\"overlay\":{\"id\":\"570806a8-dcb3-4b48-846a-6b2055b5b890\",\"type\":\"BoxAnnotation\"},\"plot\":{\"id\":\"e6e6189a-30d7-4f88-92fc-bf940ebf0dd7\",\"subtype\":\"Figure\",\"type\":\"Plot\"}},\"id\":\"b56d47b8-490f-40b4-b679-eb438d106f58\",\"type\":\"BoxZoomTool\"},{\"attributes\":{\"active_drag\":\"auto\",\"active_scroll\":\"auto\",\"active_tap\":\"auto\",\"tools\":[{\"id\":\"d19be8e2-45ac-4028-bf46-7000ec1f2549\",\"type\":\"PanTool\"},{\"id\":\"4a992ddf-51f3-4fcf-ad5f-a6f1dd50e429\",\"type\":\"WheelZoomTool\"},{\"id\":\"b56d47b8-490f-40b4-b679-eb438d106f58\",\"type\":\"BoxZoomTool\"},{\"id\":\"b2e71951-88df-48b0-8e6a-1de9ce22c012\",\"type\":\"SaveTool\"},{\"id\":\"a8c1b952-a34b-4f44-9251-6ec4bc661bb7\",\"type\":\"ResetTool\"},{\"id\":\"4c512c9b-abb7-4d63-80bd-579bcd93ff0d\",\"type\":\"HelpTool\"}]},\"id\":\"304d5b51-6517-4a08-bfe8-973f84235a8c\",\"type\":\"Toolbar\"},{\"attributes\":{\"plot\":{\"id\":\"e6e6189a-30d7-4f88-92fc-bf940ebf0dd7\",\"subtype\":\"Figure\",\"type\":\"Plot\"}},\"id\":\"b2e71951-88df-48b0-8e6a-1de9ce22c012\",\"type\":\"SaveTool\"},{\"attributes\":{\"plot\":{\"id\":\"e6e6189a-30d7-4f88-92fc-bf940ebf0dd7\",\"subtype\":\"Figure\",\"type\":\"Plot\"}},\"id\":\"a8c1b952-a34b-4f44-9251-6ec4bc661bb7\",\"type\":\"ResetTool\"},{\"attributes\":{\"line_alpha\":{\"value\":0.1},\"line_color\":{\"value\":\"#1f77b4\"},\"x\":{\"field\":\"x\"},\"y\":{\"field\":\"y\"}},\"id\":\"14611bdc-52e3-4853-b423-5714c9862d4f\",\"type\":\"Line\"},{\"attributes\":{\"bottom_units\":\"screen\",\"fill_alpha\":{\"value\":0.5},\"fill_color\":{\"value\":\"lightgrey\"},\"left_units\":\"screen\",\"level\":\"overlay\",\"line_alpha\":{\"value\":1.0},\"line_color\":{\"value\":\"black\"},\"line_dash\":[4,4],\"line_width\":{\"value\":2},\"plot\":null,\"render_mode\":\"css\",\"right_units\":\"screen\",\"top_units\":\"screen\"},\"id\":\"570806a8-dcb3-4b48-846a-6b2055b5b890\",\"type\":\"BoxAnnotation\"},{\"attributes\":{\"callback\":null,\"column_names\":[\"y\",\"x\"],\"data\":{\"x\":[176,177,178,179,180,181,182,183,184,185,186,187,188,189,190,191,192,193,194,195,196,197,198,199,200],\"y\":[21967.589771152736,25983.67393667873,30225.879276325275,35417.434024077076,13010.677309294084,19640.687744963707,21507.217943456773,23675.726709840026,21686.79194457758,23672.216015776125,26956.70419416119,22755.791650770716,19809.49757076498,23580.426430032163,27847.874114508402,32925.71207085346,10476.650581246868,17027.657135790196,18834.04336592597,20932.715930393966,18878.925865964473,20796.93491922333,24015.32353602797,19747.635409358274,16734.913158082865]}},\"id\":\"b896fddd-47b6-4877-b759-df431470f80a\",\"type\":\"ColumnDataSource\"},{\"attributes\":{\"line_alpha\":{\"value\":0.1},\"line_color\":{\"value\":\"#1f77b4\"},\"x\":{\"field\":\"x\"},\"y\":{\"field\":\"y\"}},\"id\":\"d3b9e4f1-ed0b-4ab8-b990-89acacd2b4bb\",\"type\":\"Line\"},{\"attributes\":{\"plot\":null,\"text\":\"Forecasted values\"},\"id\":\"476d75f6-a1ab-4330-a7a5-8304e7fe85c3\",\"type\":\"Title\"},{\"attributes\":{\"callback\":null,\"column_names\":[\"y\",\"x\"],\"data\":{\"x\":[0,1,2,3,4,5,6,7,8,9,10,11,12,13,14,15,16,17,18,19,20,21,22,23,24,25,26,27,28,29,30,31,32,33,34,35,36,37,38,39,40,41,42,43,44,45,46,47,48,49,50,51,52,53,54,55,56,57,58,59,60,61,62,63,64,65,66,67,68,69,70,71,72,73,74,75,76,77,78,79,80,81,82,83,84,85,86,87,88,89,90,91,92,93,94,95,96,97,98,99,100,101,102,103,104,105,106,107,108,109,110,111,112,113,114,115,116,117,118,119,120,121,122,123,124,125,126,127,128,129,130,131,132,133,134,135,136,137,138,139,140,141,142,143,144,145,146,147,148,149,150,151,152,153,154,155,156,157,158,159,160,161,162,163,164,165,166,167,168,169,170,171,172,173,174,175],\"y\":[15136.0,16733.0,20016.0,17708.0,18019.0,19227.0,22893.0,23739.0,21133.0,22591.0,26786.0,29740.0,15028.0,17977.0,20008.0,21354.0,19498.0,22125.0,25817.0,28779.0,20960.0,22254.0,27392.0,29945.0,16933.0,17892.0,20533.0,23569.0,22417.0,22084.0,26580.0,27454.0,24081.0,23451.0,28991.0,31386.0,16896.0,20045.0,23471.0,21747.0,25621.0,23859.0,25500.0,30998.0,24475.0,23145.0,29701.0,34365.0,17556.0,22077.0,25702.0,22214.0,26886.0,23191.0,27831.0,35406.0,23195.0,25110.0,30009.0,36242.0,18450.0,21845.0,26488.0,22394.0,28057.0,25451.0,24872.0,33424.0,24052.0,28449.0,33533.0,37351.0,19969.0,21701.0,26249.0,24493.0,24603.0,26485.0,30723.0,34569.0,26689.0,26157.0,32064.0,38870.0,21337.0,19419.0,23166.0,28286.0,24570.0,24001.0,33151.0,24878.0,26804.0,28967.0,33311.0,40226.0,20504.0,23060.0,23562.0,27562.0,23940.0,24584.0,34303.0,25517.0,23494.0,29095.0,32903.0,34379.0,16991.0,21109.0,23740.0,25552.0,21752.0,20294.0,29009.0,25500.0,24166.0,26960.0,31222.0,38641.0,14672.0,17543.0,25453.0,32683.0,22449.0,22316.0,27595.0,25451.0,25421.0,25288.0,32568.0,35110.0,16052.0,22146.0,21198.0,19543.0,22084.0,23816.0,29961.0,26773.0,26635.0,26972.0,30207.0,38687.0,16974.0,21697.0,24179.0,23757.0,25013.0,24019.0,30345.0,24488.0,25156.0,25650.0,30923.0,37240.0,17466.0,19463.0,24352.0,26805.0,25236.0,24735.0,29356.0,31234.0,22724.0,28496.0,32857.0,37198.0,13652.0,22784.0,23565.0,26323.0,23779.0,27549.0,29660.0,23356.0]}},\"id\":\"27937f03-25d3-4eec-8b3b-0a03a6be71ac\",\"type\":\"ColumnDataSource\"},{\"attributes\":{},\"id\":\"41bcb794-4702-45f5-b724-5df68f808e26\",\"type\":\"BasicTickFormatter\"},{\"attributes\":{},\"id\":\"88f1ea18-4d75-4bef-951e-cf6d330240d7\",\"type\":\"BasicTicker\"},{\"attributes\":{\"data_source\":{\"id\":\"b896fddd-47b6-4877-b759-df431470f80a\",\"type\":\"ColumnDataSource\"},\"glyph\":{\"id\":\"0402e0d8-753e-4e9f-bf23-ab5b8ce05ec3\",\"type\":\"Line\"},\"hover_glyph\":null,\"nonselection_glyph\":{\"id\":\"d3b9e4f1-ed0b-4ab8-b990-89acacd2b4bb\",\"type\":\"Line\"},\"selection_glyph\":null},\"id\":\"e128bbab-ba49-4839-aae0-822252fc71d2\",\"type\":\"GlyphRenderer\"},{\"attributes\":{\"below\":[{\"id\":\"5341bb7a-79ad-4aed-878f-ec8cdb8429e3\",\"type\":\"LinearAxis\"}],\"left\":[{\"id\":\"4f2c7a8b-361f-454b-ab66-8f112ab69577\",\"type\":\"LinearAxis\"}],\"plot_height\":400,\"renderers\":[{\"id\":\"5341bb7a-79ad-4aed-878f-ec8cdb8429e3\",\"type\":\"LinearAxis\"},{\"id\":\"c26ff035-31ef-4ec9-b12c-2955a44148b8\",\"type\":\"Grid\"},{\"id\":\"4f2c7a8b-361f-454b-ab66-8f112ab69577\",\"type\":\"LinearAxis\"},{\"id\":\"52c4d472-719a-4bb5-a50f-157e7f8636c4\",\"type\":\"Grid\"},{\"id\":\"570806a8-dcb3-4b48-846a-6b2055b5b890\",\"type\":\"BoxAnnotation\"},{\"id\":\"d473a12c-591b-48b0-b29b-8b8807c1c0e1\",\"type\":\"Legend\"},{\"id\":\"0edfa0ba-9093-4179-9fda-4ec4f025e37b\",\"type\":\"GlyphRenderer\"},{\"id\":\"e128bbab-ba49-4839-aae0-822252fc71d2\",\"type\":\"GlyphRenderer\"}],\"title\":{\"id\":\"476d75f6-a1ab-4330-a7a5-8304e7fe85c3\",\"type\":\"Title\"},\"tool_events\":{\"id\":\"12de3736-9453-407d-bcbd-7f3e119af32e\",\"type\":\"ToolEvents\"},\"toolbar\":{\"id\":\"304d5b51-6517-4a08-bfe8-973f84235a8c\",\"type\":\"Toolbar\"},\"x_range\":{\"id\":\"97464158-736a-47b2-a0cc-63bb30932b19\",\"type\":\"DataRange1d\"},\"y_range\":{\"id\":\"845a2991-65ff-4353-ab0f-518a2dfac81f\",\"type\":\"DataRange1d\"}},\"id\":\"e6e6189a-30d7-4f88-92fc-bf940ebf0dd7\",\"subtype\":\"Figure\",\"type\":\"Plot\"},{\"attributes\":{},\"id\":\"2e52b7c4-3a80-401f-9381-48139fa14bab\",\"type\":\"BasicTicker\"},{\"attributes\":{\"dimension\":1,\"grid_line_alpha\":{\"value\":0.3},\"plot\":{\"id\":\"e6e6189a-30d7-4f88-92fc-bf940ebf0dd7\",\"subtype\":\"Figure\",\"type\":\"Plot\"},\"ticker\":{\"id\":\"88f1ea18-4d75-4bef-951e-cf6d330240d7\",\"type\":\"BasicTicker\"}},\"id\":\"52c4d472-719a-4bb5-a50f-157e7f8636c4\",\"type\":\"Grid\"},{\"attributes\":{\"plot\":{\"id\":\"e6e6189a-30d7-4f88-92fc-bf940ebf0dd7\",\"subtype\":\"Figure\",\"type\":\"Plot\"}},\"id\":\"4a992ddf-51f3-4fcf-ad5f-a6f1dd50e429\",\"type\":\"WheelZoomTool\"},{\"attributes\":{\"grid_line_alpha\":{\"value\":0.3},\"plot\":{\"id\":\"e6e6189a-30d7-4f88-92fc-bf940ebf0dd7\",\"subtype\":\"Figure\",\"type\":\"Plot\"},\"ticker\":{\"id\":\"2e52b7c4-3a80-401f-9381-48139fa14bab\",\"type\":\"BasicTicker\"}},\"id\":\"c26ff035-31ef-4ec9-b12c-2955a44148b8\",\"type\":\"Grid\"},{\"attributes\":{\"axis_label\":\"Value\",\"formatter\":{\"id\":\"8a8b9a94-dcdf-490b-ad46-ecef1d3a2f1b\",\"type\":\"BasicTickFormatter\"},\"plot\":{\"id\":\"e6e6189a-30d7-4f88-92fc-bf940ebf0dd7\",\"subtype\":\"Figure\",\"type\":\"Plot\"},\"ticker\":{\"id\":\"88f1ea18-4d75-4bef-951e-cf6d330240d7\",\"type\":\"BasicTicker\"}},\"id\":\"4f2c7a8b-361f-454b-ab66-8f112ab69577\",\"type\":\"LinearAxis\"},{\"attributes\":{\"plot\":{\"id\":\"e6e6189a-30d7-4f88-92fc-bf940ebf0dd7\",\"subtype\":\"Figure\",\"type\":\"Plot\"}},\"id\":\"4c512c9b-abb7-4d63-80bd-579bcd93ff0d\",\"type\":\"HelpTool\"},{\"attributes\":{\"legends\":[[\"Observed\",[{\"id\":\"0edfa0ba-9093-4179-9fda-4ec4f025e37b\",\"type\":\"GlyphRenderer\"}]],[\"Forecasted\",[{\"id\":\"e128bbab-ba49-4839-aae0-822252fc71d2\",\"type\":\"GlyphRenderer\"}]]],\"plot\":{\"id\":\"e6e6189a-30d7-4f88-92fc-bf940ebf0dd7\",\"subtype\":\"Figure\",\"type\":\"Plot\"}},\"id\":\"d473a12c-591b-48b0-b29b-8b8807c1c0e1\",\"type\":\"Legend\"},{\"attributes\":{\"line_color\":{\"value\":\"#A6CEE3\"},\"x\":{\"field\":\"x\"},\"y\":{\"field\":\"y\"}},\"id\":\"cb701c01-1b72-4bcd-bc39-d677fa1ffe83\",\"type\":\"Line\"},{\"attributes\":{\"axis_label\":\"Time\",\"formatter\":{\"id\":\"41bcb794-4702-45f5-b724-5df68f808e26\",\"type\":\"BasicTickFormatter\"},\"plot\":{\"id\":\"e6e6189a-30d7-4f88-92fc-bf940ebf0dd7\",\"subtype\":\"Figure\",\"type\":\"Plot\"},\"ticker\":{\"id\":\"2e52b7c4-3a80-401f-9381-48139fa14bab\",\"type\":\"BasicTicker\"}},\"id\":\"5341bb7a-79ad-4aed-878f-ec8cdb8429e3\",\"type\":\"LinearAxis\"},{\"attributes\":{\"callback\":null},\"id\":\"97464158-736a-47b2-a0cc-63bb30932b19\",\"type\":\"DataRange1d\"},{\"attributes\":{\"line_color\":{\"value\":\"#B2DF8A\"},\"x\":{\"field\":\"x\"},\"y\":{\"field\":\"y\"}},\"id\":\"0402e0d8-753e-4e9f-bf23-ab5b8ce05ec3\",\"type\":\"Line\"},{\"attributes\":{\"data_source\":{\"id\":\"27937f03-25d3-4eec-8b3b-0a03a6be71ac\",\"type\":\"ColumnDataSource\"},\"glyph\":{\"id\":\"cb701c01-1b72-4bcd-bc39-d677fa1ffe83\",\"type\":\"Line\"},\"hover_glyph\":null,\"nonselection_glyph\":{\"id\":\"14611bdc-52e3-4853-b423-5714c9862d4f\",\"type\":\"Line\"},\"selection_glyph\":null},\"id\":\"0edfa0ba-9093-4179-9fda-4ec4f025e37b\",\"type\":\"GlyphRenderer\"},{\"attributes\":{},\"id\":\"8a8b9a94-dcdf-490b-ad46-ecef1d3a2f1b\",\"type\":\"BasicTickFormatter\"},{\"attributes\":{\"callback\":null},\"id\":\"845a2991-65ff-4353-ab0f-518a2dfac81f\",\"type\":\"DataRange1d\"}],\"root_ids\":[\"e6e6189a-30d7-4f88-92fc-bf940ebf0dd7\"]},\"title\":\"Bokeh Application\",\"version\":\"0.12.0\"}};\n",
       "            var render_items = [{\"docid\":\"6e70c0f6-16b3-4f72-8c84-984a120c0233\",\"elementid\":\"4037d22e-c612-4597-a8b2-8911338b5703\",\"modelid\":\"e6e6189a-30d7-4f88-92fc-bf940ebf0dd7\",\"notebook_comms_target\":\"1f3a6f18-9434-4e60-8543-4fefa30713d6\"}];\n",
       "            \n",
       "            Bokeh.embed.embed_items(docs_json, render_items);\n",
       "        });\n",
       "      },\n",
       "      function(Bokeh) {\n",
       "      }\n",
       "    ];\n",
       "  \n",
       "    function run_inline_js() {\n",
       "      for (var i = 0; i < inline_js.length; i++) {\n",
       "        inline_js[i](window.Bokeh);\n",
       "      }\n",
       "    }\n",
       "  \n",
       "    if (window._bokeh_is_loading === 0) {\n",
       "      console.log(\"Bokeh: BokehJS loaded, going straight to plotting\");\n",
       "      run_inline_js();\n",
       "    } else {\n",
       "      load_libs(js_urls, function() {\n",
       "        console.log(\"Bokeh: BokehJS plotting callback run at\", now());\n",
       "        run_inline_js();\n",
       "      });\n",
       "    }\n",
       "  }(this));\n",
       "</script>"
      ]
     },
     "metadata": {},
     "output_type": "display_data"
    },
    {
     "data": {
      "text/html": [
       "<p><code>&lt;Bokeh Notebook handle for <strong>In[11]</strong>&gt;</code></p>"
      ],
      "text/plain": [
       "<bokeh.io._CommsHandle at 0x115bbff50>"
      ]
     },
     "execution_count": 11,
     "metadata": {},
     "output_type": "execute_result"
    }
   ],
   "source": [
    "import pandas as pd\n",
    "\n",
    "def plot_arima(truth, forecasts, title=\"Forecasted values\", xaxis_label='Time',\n",
    "               yaxis_label='Value', c1='#A6CEE3', c2='#B2DF8A', **kwargs):\n",
    "    \n",
    "    # make truth and forecasts into pandas series\n",
    "    n_truth = truth.shape[0]\n",
    "    n_forecasts = forecasts.shape[0]\n",
    "    \n",
    "    truth = pd.Series(truth, index=np.arange(truth.shape[0]))\n",
    "    forecasts = pd.Series(forecasts, index=np.arange(n_truth, n_truth + n_forecasts))\n",
    "    \n",
    "    # set up the plot\n",
    "    p = figure(title=title, plot_height=400, **kwargs)\n",
    "    p.grid.grid_line_alpha=0.3\n",
    "    p.xaxis.axis_label = xaxis_label\n",
    "    p.yaxis.axis_label = yaxis_label\n",
    "    \n",
    "    # add the lines\n",
    "    p.line(truth.index, truth.values, color=c1, legend='Observed')\n",
    "    p.line(forecasts.index, forecasts.values, color=c2, legend='Forecasted')\n",
    "    \n",
    "    return p\n",
    "    \n",
    "# call the plotting func\n",
    "show(plot_arima(wineind, next_25))"
   ]
  },
  {
   "cell_type": "markdown",
   "metadata": {},
   "source": [
    "(Github does not render the Bokeh output, so here's the image that's generated from the above code):\n",
    "\n",
    "![Bokeh output](quick_start_output.png)"
   ]
  },
  {
   "cell_type": "code",
   "execution_count": null,
   "metadata": {
    "collapsed": true
   },
   "outputs": [],
   "source": []
  }
 ],
 "metadata": {
  "anaconda-cloud": {},
  "kernelspec": {
   "display_name": "Python [Root]",
   "language": "python",
   "name": "Python [Root]"
  },
  "language_info": {
   "codemirror_mode": {
    "name": "ipython",
    "version": 2
   },
   "file_extension": ".py",
   "mimetype": "text/x-python",
   "name": "python",
   "nbconvert_exporter": "python",
   "pygments_lexer": "ipython2",
   "version": "2.7.12"
  }
 },
 "nbformat": 4,
 "nbformat_minor": 0
}
