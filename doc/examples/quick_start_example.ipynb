{
 "cells": [
  {
   "cell_type": "markdown",
   "metadata": {},
   "source": [
    "# `auto_arima`\n",
    "\n",
    "Pyramid bring R's [`auto.arima`](https://www.rdocumentation.org/packages/forecast/versions/7.3/topics/auto.arima) functionality to Python by wrapping statsmodel [`ARIMA`](https://github.com/statsmodels/statsmodels/blob/master/statsmodels/tsa/arima_model.py) and [`SARIMAX`](https://github.com/statsmodels/statsmodels/blob/master/statsmodels/tsa/statespace/sarimax.py) models into a singular scikit-learn-esque estimator ([`pyramid.arima.ARIMA`](https://github.com/tgsmith61591/pyramid/blob/master/pyramid/arima/arima.py)) and adding several layers of degree and seasonal differencing tests to identify the optimal model parameters."
   ]
  },
  {
   "cell_type": "code",
   "execution_count": 1,
   "metadata": {
    "collapsed": false
   },
   "outputs": [
    {
     "name": "stdout",
     "output_type": "stream",
     "text": [
      "numpy version: '1.11.3'\n",
      "pyramid version: '0.1'\n"
     ]
    }
   ],
   "source": [
    "import numpy as np\n",
    "import pyramid\n",
    "\n",
    "print('numpy version: %r' % np.__version__)\n",
    "print('pyramid version: %r' % pyramid.__version__)"
   ]
  },
  {
   "cell_type": "code",
   "execution_count": 2,
   "metadata": {
    "collapsed": true
   },
   "outputs": [],
   "source": [
    "# this is a dataset from R\n",
    "wineind = np.array([\n",
    "    15136, 16733, 20016, 17708, 18019,\n",
    "    19227, 22893, 23739, 21133, 22591,\n",
    "    26786, 29740, 15028, 17977, 20008,\n",
    "    21354, 19498, 22125, 25817, 28779,\n",
    "    20960, 22254, 27392, 29945, 16933,\n",
    "    17892, 20533, 23569, 22417, 22084,\n",
    "    26580, 27454, 24081, 23451, 28991,\n",
    "    31386, 16896, 20045, 23471, 21747,\n",
    "    25621, 23859, 25500, 30998, 24475,\n",
    "    23145, 29701, 34365, 17556, 22077,\n",
    "    25702, 22214, 26886, 23191, 27831,\n",
    "    35406, 23195, 25110, 30009, 36242,\n",
    "    18450, 21845, 26488, 22394, 28057,\n",
    "    25451, 24872, 33424, 24052, 28449,\n",
    "    33533, 37351, 19969, 21701, 26249,\n",
    "    24493, 24603, 26485, 30723, 34569,\n",
    "    26689, 26157, 32064, 38870, 21337,\n",
    "    19419, 23166, 28286, 24570, 24001,\n",
    "    33151, 24878, 26804, 28967, 33311,\n",
    "    40226, 20504, 23060, 23562, 27562,\n",
    "    23940, 24584, 34303, 25517, 23494,\n",
    "    29095, 32903, 34379, 16991, 21109,\n",
    "    23740, 25552, 21752, 20294, 29009,\n",
    "    25500, 24166, 26960, 31222, 38641,\n",
    "    14672, 17543, 25453, 32683, 22449,\n",
    "    22316, 27595, 25451, 25421, 25288,\n",
    "    32568, 35110, 16052, 22146, 21198,\n",
    "    19543, 22084, 23816, 29961, 26773,\n",
    "    26635, 26972, 30207, 38687, 16974,\n",
    "    21697, 24179, 23757, 25013, 24019,\n",
    "    30345, 24488, 25156, 25650, 30923,\n",
    "    37240, 17466, 19463, 24352, 26805,\n",
    "    25236, 24735, 29356, 31234, 22724,\n",
    "    28496, 32857, 37198, 13652, 22784,\n",
    "    23565, 26323, 23779, 27549, 29660,\n",
    "    23356]\n",
    ").astype(np.float64)"
   ]
  },
  {
   "cell_type": "markdown",
   "metadata": {},
   "source": [
    "## Fitting an ARIMA\n",
    "\n",
    "You do not need to call `auto_arima` in order to fit a model. If you know the order and seasonality of your data, you can simply fit an ARIMA:"
   ]
  },
  {
   "cell_type": "code",
   "execution_count": null,
   "metadata": {
    "collapsed": false
   },
   "outputs": [],
   "source": [
    "from pyramid.arima import ARIMA\n",
    "\n",
    "fit = ARIMA(order=(1, 1, 1), seasonal_order=(0, 1, 1, 12)).fit(y=wineind)"
   ]
  },
  {
   "cell_type": "markdown",
   "metadata": {},
   "source": [
    "## Seasonality\n",
    "\n",
    "Furthermore, your data does not have to exhibit seasonality to work with an ARIMA:"
   ]
  },
  {
   "cell_type": "code",
   "execution_count": null,
   "metadata": {
    "collapsed": false
   },
   "outputs": [],
   "source": [
    "fit = ARIMA(order=(1, 1, 1), seasonal_order=None).fit(y=wineind)"
   ]
  },
  {
   "cell_type": "markdown",
   "metadata": {},
   "source": [
    "## Finding the optimal model parameters using `auto_arima`:\n",
    "\n",
    "If you are unsure (as is common) of the best parameters for your model, let `auto_arima` figure it out for you:"
   ]
  },
  {
   "cell_type": "code",
   "execution_count": 5,
   "metadata": {
    "collapsed": false
   },
   "outputs": [
    {
     "data": {
      "text/html": [
       "<table class=\"simpletable\">\n",
       "<caption>Statespace Model Results</caption>\n",
       "<tr>\n",
       "  <th>Dep. Variable:</th>                  <td>y</td>               <th>  No. Observations:  </th>    <td>176</td>   \n",
       "</tr>\n",
       "<tr>\n",
       "  <th>Model:</th>           <td>SARIMAX(3, 1, 3)x(2, 1, 2, 12)</td> <th>  Log Likelihood     </th> <td>-1526.746</td>\n",
       "</tr>\n",
       "<tr>\n",
       "  <th>Date:</th>                   <td>Thu, 01 Jun 2017</td>        <th>  AIC                </th> <td>3077.492</td> \n",
       "</tr>\n",
       "<tr>\n",
       "  <th>Time:</th>                       <td>13:28:04</td>            <th>  BIC                </th> <td>3115.537</td> \n",
       "</tr>\n",
       "<tr>\n",
       "  <th>Sample:</th>                         <td>0</td>               <th>  HQIC               </th> <td>3092.923</td> \n",
       "</tr>\n",
       "<tr>\n",
       "  <th></th>                             <td> - 176</td>             <th>                     </th>     <td> </td>    \n",
       "</tr>\n",
       "<tr>\n",
       "  <th>Covariance Type:</th>               <td>opg</td>              <th>                     </th>     <td> </td>    \n",
       "</tr>\n",
       "</table>\n",
       "<table class=\"simpletable\">\n",
       "<tr>\n",
       "      <td></td>         <th>coef</th>     <th>std err</th>      <th>z</th>      <th>P>|z|</th>  <th>[0.025</th>    <th>0.975]</th>  \n",
       "</tr>\n",
       "<tr>\n",
       "  <th>intercept</th> <td> -111.0512</td> <td> 1504.110</td> <td>   -0.074</td> <td> 0.941</td> <td>-3059.052</td> <td> 2836.949</td>\n",
       "</tr>\n",
       "<tr>\n",
       "  <th>ar.L1</th>     <td>   -0.6769</td> <td>   11.260</td> <td>   -0.060</td> <td> 0.952</td> <td>  -22.745</td> <td>   21.392</td>\n",
       "</tr>\n",
       "<tr>\n",
       "  <th>ar.L2</th>     <td>   -0.1089</td> <td>    3.921</td> <td>   -0.028</td> <td> 0.978</td> <td>   -7.793</td> <td>    7.576</td>\n",
       "</tr>\n",
       "<tr>\n",
       "  <th>ar.L3</th>     <td>   -0.0282</td> <td>    0.384</td> <td>   -0.073</td> <td> 0.941</td> <td>   -0.780</td> <td>    0.724</td>\n",
       "</tr>\n",
       "<tr>\n",
       "  <th>ma.L1</th>     <td>    0.0941</td> <td>   11.254</td> <td>    0.008</td> <td> 0.993</td> <td>  -21.964</td> <td>   22.152</td>\n",
       "</tr>\n",
       "<tr>\n",
       "  <th>ma.L2</th>     <td>   -0.4349</td> <td>    2.764</td> <td>   -0.157</td> <td> 0.875</td> <td>   -5.852</td> <td>    4.983</td>\n",
       "</tr>\n",
       "<tr>\n",
       "  <th>ma.L3</th>     <td>   -0.0666</td> <td>    3.646</td> <td>   -0.018</td> <td> 0.985</td> <td>   -7.213</td> <td>    7.080</td>\n",
       "</tr>\n",
       "<tr>\n",
       "  <th>ar.S.L12</th>  <td>   -0.1941</td> <td>   18.463</td> <td>   -0.011</td> <td> 0.992</td> <td>  -36.381</td> <td>   35.992</td>\n",
       "</tr>\n",
       "<tr>\n",
       "  <th>ar.S.L24</th>  <td>    0.0724</td> <td>    3.690</td> <td>    0.020</td> <td> 0.984</td> <td>   -7.160</td> <td>    7.305</td>\n",
       "</tr>\n",
       "<tr>\n",
       "  <th>ma.S.L12</th>  <td>   -0.1928</td> <td>   18.474</td> <td>   -0.010</td> <td> 0.992</td> <td>  -36.401</td> <td>   36.016</td>\n",
       "</tr>\n",
       "<tr>\n",
       "  <th>ma.S.L24</th>  <td>   -0.2260</td> <td>   10.839</td> <td>   -0.021</td> <td> 0.983</td> <td>  -21.470</td> <td>   21.018</td>\n",
       "</tr>\n",
       "<tr>\n",
       "  <th>sigma2</th>    <td> 7.518e+06</td> <td>    0.174</td> <td> 4.33e+07</td> <td> 0.000</td> <td> 7.52e+06</td> <td> 7.52e+06</td>\n",
       "</tr>\n",
       "</table>\n",
       "<table class=\"simpletable\">\n",
       "<tr>\n",
       "  <th>Ljung-Box (Q):</th>          <td>47.06</td> <th>  Jarque-Bera (JB):  </th> <td>19.34</td>\n",
       "</tr>\n",
       "<tr>\n",
       "  <th>Prob(Q):</th>                <td>0.21</td>  <th>  Prob(JB):          </th> <td>0.00</td> \n",
       "</tr>\n",
       "<tr>\n",
       "  <th>Heteroskedasticity (H):</th> <td>1.17</td>  <th>  Skew:              </th> <td>-0.56</td>\n",
       "</tr>\n",
       "<tr>\n",
       "  <th>Prob(H) (two-sided):</th>    <td>0.57</td>  <th>  Kurtosis:          </th> <td>4.25</td> \n",
       "</tr>\n",
       "</table>"
      ],
      "text/plain": [
       "<class 'statsmodels.iolib.summary.Summary'>\n",
       "\"\"\"\n",
       "                                 Statespace Model Results                                 \n",
       "==========================================================================================\n",
       "Dep. Variable:                                  y   No. Observations:                  176\n",
       "Model:             SARIMAX(3, 1, 3)x(2, 1, 2, 12)   Log Likelihood               -1526.746\n",
       "Date:                            Thu, 01 Jun 2017   AIC                           3077.492\n",
       "Time:                                    13:28:04   BIC                           3115.537\n",
       "Sample:                                         0   HQIC                          3092.923\n",
       "                                            - 176                                         \n",
       "Covariance Type:                              opg                                         \n",
       "==============================================================================\n",
       "                 coef    std err          z      P>|z|      [0.025      0.975]\n",
       "------------------------------------------------------------------------------\n",
       "intercept   -111.0512   1504.110     -0.074      0.941   -3059.052    2836.949\n",
       "ar.L1         -0.6769     11.260     -0.060      0.952     -22.745      21.392\n",
       "ar.L2         -0.1089      3.921     -0.028      0.978      -7.793       7.576\n",
       "ar.L3         -0.0282      0.384     -0.073      0.941      -0.780       0.724\n",
       "ma.L1          0.0941     11.254      0.008      0.993     -21.964      22.152\n",
       "ma.L2         -0.4349      2.764     -0.157      0.875      -5.852       4.983\n",
       "ma.L3         -0.0666      3.646     -0.018      0.985      -7.213       7.080\n",
       "ar.S.L12      -0.1941     18.463     -0.011      0.992     -36.381      35.992\n",
       "ar.S.L24       0.0724      3.690      0.020      0.984      -7.160       7.305\n",
       "ma.S.L12      -0.1928     18.474     -0.010      0.992     -36.401      36.016\n",
       "ma.S.L24      -0.2260     10.839     -0.021      0.983     -21.470      21.018\n",
       "sigma2      7.518e+06      0.174   4.33e+07      0.000    7.52e+06    7.52e+06\n",
       "===================================================================================\n",
       "Ljung-Box (Q):                       47.06   Jarque-Bera (JB):                19.34\n",
       "Prob(Q):                              0.21   Prob(JB):                         0.00\n",
       "Heteroskedasticity (H):               1.17   Skew:                            -0.56\n",
       "Prob(H) (two-sided):                  0.57   Kurtosis:                         4.25\n",
       "===================================================================================\n",
       "\n",
       "Warnings:\n",
       "[1] Covariance matrix calculated using the outer product of gradients (complex-step).\n",
       "[2] Covariance matrix is singular or near-singular, with condition number 1.37e+26. Standard errors may be unstable.\n",
       "\"\"\""
      ]
     },
     "execution_count": 5,
     "metadata": {},
     "output_type": "execute_result"
    }
   ],
   "source": [
    "from pyramid.arima import auto_arima\n",
    "\n",
    "fit = auto_arima(wineind, start_p=1, start_q=1, max_p=3, max_q=3, m=12,\n",
    "                 start_P=0, seasonal=True, n_jobs=-1, d=1, D=1,\n",
    "                 error_action='ignore',  # don't want to know if an order does not work\n",
    "                 suppress_warnings=True)  # don't want convergence warnings\n",
    "\n",
    "fit.summary()"
   ]
  },
  {
   "cell_type": "markdown",
   "metadata": {},
   "source": [
    "## Predicting future values\n",
    "\n",
    "After your model is fit, you can forecast future values using the `predict` function, just like in sci-kit learn:"
   ]
  },
  {
   "cell_type": "code",
   "execution_count": 6,
   "metadata": {
    "collapsed": false
   },
   "outputs": [
    {
     "data": {
      "text/plain": [
       "array([ 21712.33303748,  26161.38404227,  30280.64516821,  35266.92400057,\n",
       "        12868.21554429,  19690.18089443,  21388.81625939,  23561.96201726,\n",
       "        21460.56508144,  23555.59664921,  26944.97580824,  22297.46589831,\n",
       "        19781.93797871,  23518.36419626,  27748.51007399,  32788.86310966,\n",
       "        10594.56147419,  16890.11311597,  18741.00888118,  20753.23509606,\n",
       "        18698.59374577,  20411.12269924,  24011.91367651,  19679.1500194 ,\n",
       "        16916.36835378])"
      ]
     },
     "execution_count": 6,
     "metadata": {},
     "output_type": "execute_result"
    }
   ],
   "source": [
    "next_25 = fit.predict(n_periods=25)\n",
    "next_25"
   ]
  },
  {
   "cell_type": "markdown",
   "metadata": {},
   "source": [
    "## Visualizing forecasts"
   ]
  },
  {
   "cell_type": "code",
   "execution_count": 8,
   "metadata": {
    "collapsed": false
   },
   "outputs": [
    {
     "data": {
      "text/html": [
       "\n",
       "    <div class=\"bk-root\">\n",
       "        <a href=\"http://bokeh.pydata.org\" target=\"_blank\" class=\"bk-logo bk-logo-small bk-logo-notebook\"></a>\n",
       "        <span id=\"9941bd1e-d228-4a0f-b936-cd4d83660262\">Loading BokehJS ...</span>\n",
       "    </div>"
      ]
     },
     "metadata": {},
     "output_type": "display_data"
    },
    {
     "data": {
      "application/javascript": [
       "\n",
       "(function(global) {\n",
       "  function now() {\n",
       "    return new Date();\n",
       "  }\n",
       "\n",
       "  if (typeof (window._bokeh_onload_callbacks) === \"undefined\") {\n",
       "    window._bokeh_onload_callbacks = [];\n",
       "  }\n",
       "\n",
       "  function run_callbacks() {\n",
       "    window._bokeh_onload_callbacks.forEach(function(callback) { callback() });\n",
       "    delete window._bokeh_onload_callbacks\n",
       "    console.info(\"Bokeh: all callbacks have finished\");\n",
       "  }\n",
       "\n",
       "  function load_libs(js_urls, callback) {\n",
       "    window._bokeh_onload_callbacks.push(callback);\n",
       "    if (window._bokeh_is_loading > 0) {\n",
       "      console.log(\"Bokeh: BokehJS is being loaded, scheduling callback at\", now());\n",
       "      return null;\n",
       "    }\n",
       "    if (js_urls == null || js_urls.length === 0) {\n",
       "      run_callbacks();\n",
       "      return null;\n",
       "    }\n",
       "    console.log(\"Bokeh: BokehJS not loaded, scheduling load and callback at\", now());\n",
       "    window._bokeh_is_loading = js_urls.length;\n",
       "    for (var i = 0; i < js_urls.length; i++) {\n",
       "      var url = js_urls[i];\n",
       "      var s = document.createElement('script');\n",
       "      s.src = url;\n",
       "      s.async = false;\n",
       "      s.onreadystatechange = s.onload = function() {\n",
       "        window._bokeh_is_loading--;\n",
       "        if (window._bokeh_is_loading === 0) {\n",
       "          console.log(\"Bokeh: all BokehJS libraries loaded\");\n",
       "          run_callbacks()\n",
       "        }\n",
       "      };\n",
       "      s.onerror = function() {\n",
       "        console.warn(\"failed to load library \" + url);\n",
       "      };\n",
       "      console.log(\"Bokeh: injecting script tag for BokehJS library: \", url);\n",
       "      document.getElementsByTagName(\"head\")[0].appendChild(s);\n",
       "    }\n",
       "  };\n",
       "\n",
       "  var js_urls = ['https://cdn.pydata.org/bokeh/release/bokeh-0.12.0.min.js', 'https://cdn.pydata.org/bokeh/release/bokeh-widgets-0.12.0.min.js', 'https://cdn.pydata.org/bokeh/release/bokeh-compiler-0.12.0.min.js'];\n",
       "\n",
       "  var inline_js = [\n",
       "    function(Bokeh) {\n",
       "      Bokeh.set_log_level(\"info\");\n",
       "    },\n",
       "    \n",
       "    function(Bokeh) {\n",
       "      Bokeh.$(\"#9941bd1e-d228-4a0f-b936-cd4d83660262\").text(\"BokehJS successfully loaded\");\n",
       "    },\n",
       "    function(Bokeh) {\n",
       "      console.log(\"Bokeh: injecting CSS: https://cdn.pydata.org/bokeh/release/bokeh-0.12.0.min.css\");\n",
       "      Bokeh.embed.inject_css(\"https://cdn.pydata.org/bokeh/release/bokeh-0.12.0.min.css\");\n",
       "      console.log(\"Bokeh: injecting CSS: https://cdn.pydata.org/bokeh/release/bokeh-widgets-0.12.0.min.css\");\n",
       "      Bokeh.embed.inject_css(\"https://cdn.pydata.org/bokeh/release/bokeh-widgets-0.12.0.min.css\");\n",
       "    }\n",
       "  ];\n",
       "\n",
       "  function run_inline_js() {\n",
       "    for (var i = 0; i < inline_js.length; i++) {\n",
       "      inline_js[i](window.Bokeh);\n",
       "    }\n",
       "  }\n",
       "\n",
       "  if (window._bokeh_is_loading === 0) {\n",
       "    console.log(\"Bokeh: BokehJS loaded, going straight to plotting\");\n",
       "    run_inline_js();\n",
       "  } else {\n",
       "    load_libs(js_urls, function() {\n",
       "      console.log(\"Bokeh: BokehJS plotting callback run at\", now());\n",
       "      run_inline_js();\n",
       "    });\n",
       "  }\n",
       "}(this));"
      ]
     },
     "metadata": {},
     "output_type": "display_data"
    }
   ],
   "source": [
    "from bokeh.plotting import figure, show, output_notebook\n",
    "output_notebook()"
   ]
  },
  {
   "cell_type": "code",
   "execution_count": 10,
   "metadata": {
    "collapsed": false
   },
   "outputs": [
    {
     "data": {
      "text/html": [
       "\n",
       "\n",
       "    <div class=\"bk-root\">\n",
       "        <div class=\"plotdiv\" id=\"d81cfecf-9667-4575-a51a-02586db485f2\"></div>\n",
       "    </div>\n",
       "<script type=\"text/javascript\">\n",
       "  \n",
       "  (function(global) {\n",
       "    function now() {\n",
       "      return new Date();\n",
       "    }\n",
       "  \n",
       "    if (typeof (window._bokeh_onload_callbacks) === \"undefined\") {\n",
       "      window._bokeh_onload_callbacks = [];\n",
       "    }\n",
       "  \n",
       "    function run_callbacks() {\n",
       "      window._bokeh_onload_callbacks.forEach(function(callback) { callback() });\n",
       "      delete window._bokeh_onload_callbacks\n",
       "      console.info(\"Bokeh: all callbacks have finished\");\n",
       "    }\n",
       "  \n",
       "    function load_libs(js_urls, callback) {\n",
       "      window._bokeh_onload_callbacks.push(callback);\n",
       "      if (window._bokeh_is_loading > 0) {\n",
       "        console.log(\"Bokeh: BokehJS is being loaded, scheduling callback at\", now());\n",
       "        return null;\n",
       "      }\n",
       "      if (js_urls == null || js_urls.length === 0) {\n",
       "        run_callbacks();\n",
       "        return null;\n",
       "      }\n",
       "      console.log(\"Bokeh: BokehJS not loaded, scheduling load and callback at\", now());\n",
       "      window._bokeh_is_loading = js_urls.length;\n",
       "      for (var i = 0; i < js_urls.length; i++) {\n",
       "        var url = js_urls[i];\n",
       "        var s = document.createElement('script');\n",
       "        s.src = url;\n",
       "        s.async = false;\n",
       "        s.onreadystatechange = s.onload = function() {\n",
       "          window._bokeh_is_loading--;\n",
       "          if (window._bokeh_is_loading === 0) {\n",
       "            console.log(\"Bokeh: all BokehJS libraries loaded\");\n",
       "            run_callbacks()\n",
       "          }\n",
       "        };\n",
       "        s.onerror = function() {\n",
       "          console.warn(\"failed to load library \" + url);\n",
       "        };\n",
       "        console.log(\"Bokeh: injecting script tag for BokehJS library: \", url);\n",
       "        document.getElementsByTagName(\"head\")[0].appendChild(s);\n",
       "      }\n",
       "    };var element = document.getElementById(\"d81cfecf-9667-4575-a51a-02586db485f2\");\n",
       "    if (element == null) {\n",
       "      console.log(\"Bokeh: ERROR: autoload.js configured with elementid 'd81cfecf-9667-4575-a51a-02586db485f2' but no matching script tag was found. \")\n",
       "      return false;\n",
       "    }\n",
       "  \n",
       "    var js_urls = [];\n",
       "  \n",
       "    var inline_js = [\n",
       "      function(Bokeh) {\n",
       "        Bokeh.$(function() {\n",
       "            var docs_json = {\"444c09ad-f343-419c-9cf8-cf03edf172a4\":{\"roots\":{\"references\":[{\"attributes\":{},\"id\":\"293d4026-afcb-4272-b0af-866f7a614f5c\",\"type\":\"BasicTickFormatter\"},{\"attributes\":{\"plot\":{\"id\":\"2f74a1ee-0f72-4915-b2cb-b3ed19322633\",\"subtype\":\"Figure\",\"type\":\"Plot\"}},\"id\":\"4e64e29e-d012-47a9-a7f6-b84ef1b93bde\",\"type\":\"PanTool\"},{\"attributes\":{\"data_source\":{\"id\":\"4b80254b-2534-45a3-bccb-777ee240de53\",\"type\":\"ColumnDataSource\"},\"glyph\":{\"id\":\"fe608426-e594-4a73-9d35-36240e65ee98\",\"type\":\"Line\"},\"hover_glyph\":null,\"nonselection_glyph\":{\"id\":\"08248f2c-4313-4da8-b76f-dbf25c6d2999\",\"type\":\"Line\"},\"selection_glyph\":null},\"id\":\"8711becd-1408-4d02-b588-0cb05f1915e1\",\"type\":\"GlyphRenderer\"},{\"attributes\":{\"callback\":null,\"column_names\":[\"y\",\"x\"],\"data\":{\"x\":[0,1,2,3,4,5,6,7,8,9,10,11,12,13,14,15,16,17,18,19,20,21,22,23,24,25,26,27,28,29,30,31,32,33,34,35,36,37,38,39,40,41,42,43,44,45,46,47,48,49,50,51,52,53,54,55,56,57,58,59,60,61,62,63,64,65,66,67,68,69,70,71,72,73,74,75,76,77,78,79,80,81,82,83,84,85,86,87,88,89,90,91,92,93,94,95,96,97,98,99,100,101,102,103,104,105,106,107,108,109,110,111,112,113,114,115,116,117,118,119,120,121,122,123,124,125,126,127,128,129,130,131,132,133,134,135,136,137,138,139,140,141,142,143,144,145,146,147,148,149,150,151,152,153,154,155,156,157,158,159,160,161,162,163,164,165,166,167,168,169,170,171,172,173,174,175],\"y\":[15136.0,16733.0,20016.0,17708.0,18019.0,19227.0,22893.0,23739.0,21133.0,22591.0,26786.0,29740.0,15028.0,17977.0,20008.0,21354.0,19498.0,22125.0,25817.0,28779.0,20960.0,22254.0,27392.0,29945.0,16933.0,17892.0,20533.0,23569.0,22417.0,22084.0,26580.0,27454.0,24081.0,23451.0,28991.0,31386.0,16896.0,20045.0,23471.0,21747.0,25621.0,23859.0,25500.0,30998.0,24475.0,23145.0,29701.0,34365.0,17556.0,22077.0,25702.0,22214.0,26886.0,23191.0,27831.0,35406.0,23195.0,25110.0,30009.0,36242.0,18450.0,21845.0,26488.0,22394.0,28057.0,25451.0,24872.0,33424.0,24052.0,28449.0,33533.0,37351.0,19969.0,21701.0,26249.0,24493.0,24603.0,26485.0,30723.0,34569.0,26689.0,26157.0,32064.0,38870.0,21337.0,19419.0,23166.0,28286.0,24570.0,24001.0,33151.0,24878.0,26804.0,28967.0,33311.0,40226.0,20504.0,23060.0,23562.0,27562.0,23940.0,24584.0,34303.0,25517.0,23494.0,29095.0,32903.0,34379.0,16991.0,21109.0,23740.0,25552.0,21752.0,20294.0,29009.0,25500.0,24166.0,26960.0,31222.0,38641.0,14672.0,17543.0,25453.0,32683.0,22449.0,22316.0,27595.0,25451.0,25421.0,25288.0,32568.0,35110.0,16052.0,22146.0,21198.0,19543.0,22084.0,23816.0,29961.0,26773.0,26635.0,26972.0,30207.0,38687.0,16974.0,21697.0,24179.0,23757.0,25013.0,24019.0,30345.0,24488.0,25156.0,25650.0,30923.0,37240.0,17466.0,19463.0,24352.0,26805.0,25236.0,24735.0,29356.0,31234.0,22724.0,28496.0,32857.0,37198.0,13652.0,22784.0,23565.0,26323.0,23779.0,27549.0,29660.0,23356.0]}},\"id\":\"585d8c06-1056-4528-9c8b-63b43619c537\",\"type\":\"ColumnDataSource\"},{\"attributes\":{},\"id\":\"ece9e3d3-7789-40f9-9fdf-840f59a28985\",\"type\":\"BasicTicker\"},{\"attributes\":{\"overlay\":{\"id\":\"79068013-e86e-4259-882e-ed34511685d6\",\"type\":\"BoxAnnotation\"},\"plot\":{\"id\":\"2f74a1ee-0f72-4915-b2cb-b3ed19322633\",\"subtype\":\"Figure\",\"type\":\"Plot\"}},\"id\":\"13b20959-b8de-43c3-bde6-a1ec90899621\",\"type\":\"BoxZoomTool\"},{\"attributes\":{\"line_color\":{\"value\":\"#B2DF8A\"},\"x\":{\"field\":\"x\"},\"y\":{\"field\":\"y\"}},\"id\":\"fe608426-e594-4a73-9d35-36240e65ee98\",\"type\":\"Line\"},{\"attributes\":{\"active_drag\":\"auto\",\"active_scroll\":\"auto\",\"active_tap\":\"auto\",\"tools\":[{\"id\":\"4e64e29e-d012-47a9-a7f6-b84ef1b93bde\",\"type\":\"PanTool\"},{\"id\":\"d54412a0-cc2a-4375-a52a-1fca7272b8d2\",\"type\":\"WheelZoomTool\"},{\"id\":\"13b20959-b8de-43c3-bde6-a1ec90899621\",\"type\":\"BoxZoomTool\"},{\"id\":\"31562f69-9f3c-4eb1-92f9-6aff7bc87324\",\"type\":\"SaveTool\"},{\"id\":\"a540cf06-5013-4dd8-8782-77da1ec8b350\",\"type\":\"ResetTool\"},{\"id\":\"0c014e6b-10f6-4ade-a175-82dc38a9d56a\",\"type\":\"HelpTool\"}]},\"id\":\"9e98b10d-56be-461e-b02a-c48b0bf1b6f5\",\"type\":\"Toolbar\"},{\"attributes\":{\"axis_label\":\"Time\",\"formatter\":{\"id\":\"74e6cff0-d99f-4313-a111-379746e796ca\",\"type\":\"BasicTickFormatter\"},\"plot\":{\"id\":\"2f74a1ee-0f72-4915-b2cb-b3ed19322633\",\"subtype\":\"Figure\",\"type\":\"Plot\"},\"ticker\":{\"id\":\"ece9e3d3-7789-40f9-9fdf-840f59a28985\",\"type\":\"BasicTicker\"}},\"id\":\"c7e27dab-e031-4db2-959a-507d7b53c4af\",\"type\":\"LinearAxis\"},{\"attributes\":{},\"id\":\"26588380-86ed-4bbe-91fc-34cea84af835\",\"type\":\"ToolEvents\"},{\"attributes\":{\"bottom_units\":\"screen\",\"fill_alpha\":{\"value\":0.5},\"fill_color\":{\"value\":\"lightgrey\"},\"left_units\":\"screen\",\"level\":\"overlay\",\"line_alpha\":{\"value\":1.0},\"line_color\":{\"value\":\"black\"},\"line_dash\":[4,4],\"line_width\":{\"value\":2},\"plot\":null,\"render_mode\":\"css\",\"right_units\":\"screen\",\"top_units\":\"screen\"},\"id\":\"79068013-e86e-4259-882e-ed34511685d6\",\"type\":\"BoxAnnotation\"},{\"attributes\":{\"plot\":{\"id\":\"2f74a1ee-0f72-4915-b2cb-b3ed19322633\",\"subtype\":\"Figure\",\"type\":\"Plot\"}},\"id\":\"a540cf06-5013-4dd8-8782-77da1ec8b350\",\"type\":\"ResetTool\"},{\"attributes\":{\"grid_line_alpha\":{\"value\":0.3},\"plot\":{\"id\":\"2f74a1ee-0f72-4915-b2cb-b3ed19322633\",\"subtype\":\"Figure\",\"type\":\"Plot\"},\"ticker\":{\"id\":\"ece9e3d3-7789-40f9-9fdf-840f59a28985\",\"type\":\"BasicTicker\"}},\"id\":\"b9261994-8df8-4dc0-9a2a-7bce9a4797c6\",\"type\":\"Grid\"},{\"attributes\":{\"data_source\":{\"id\":\"585d8c06-1056-4528-9c8b-63b43619c537\",\"type\":\"ColumnDataSource\"},\"glyph\":{\"id\":\"1a1248ab-e654-43e2-a4f1-61afd9991cfc\",\"type\":\"Line\"},\"hover_glyph\":null,\"nonselection_glyph\":{\"id\":\"6f18e668-d6ee-4b34-9768-efe5db51e554\",\"type\":\"Line\"},\"selection_glyph\":null},\"id\":\"ba265586-eb02-4b54-908a-63485b3ed6a3\",\"type\":\"GlyphRenderer\"},{\"attributes\":{},\"id\":\"f6b9fceb-6b9a-4299-aa6e-a927865325fd\",\"type\":\"BasicTicker\"},{\"attributes\":{\"callback\":null},\"id\":\"a090d9d1-1c09-46e2-9378-87cfd00226a3\",\"type\":\"DataRange1d\"},{\"attributes\":{\"line_alpha\":{\"value\":0.1},\"line_color\":{\"value\":\"#1f77b4\"},\"x\":{\"field\":\"x\"},\"y\":{\"field\":\"y\"}},\"id\":\"08248f2c-4313-4da8-b76f-dbf25c6d2999\",\"type\":\"Line\"},{\"attributes\":{\"below\":[{\"id\":\"c7e27dab-e031-4db2-959a-507d7b53c4af\",\"type\":\"LinearAxis\"}],\"left\":[{\"id\":\"591d7e68-996a-42e2-87ef-10c009138a4f\",\"type\":\"LinearAxis\"}],\"plot_height\":400,\"renderers\":[{\"id\":\"c7e27dab-e031-4db2-959a-507d7b53c4af\",\"type\":\"LinearAxis\"},{\"id\":\"b9261994-8df8-4dc0-9a2a-7bce9a4797c6\",\"type\":\"Grid\"},{\"id\":\"591d7e68-996a-42e2-87ef-10c009138a4f\",\"type\":\"LinearAxis\"},{\"id\":\"95e397f0-7a73-4b90-bc2c-adba2caf75ff\",\"type\":\"Grid\"},{\"id\":\"79068013-e86e-4259-882e-ed34511685d6\",\"type\":\"BoxAnnotation\"},{\"id\":\"3ed28181-b569-42fb-8d91-f17da68c8d5a\",\"type\":\"Legend\"},{\"id\":\"ba265586-eb02-4b54-908a-63485b3ed6a3\",\"type\":\"GlyphRenderer\"},{\"id\":\"8711becd-1408-4d02-b588-0cb05f1915e1\",\"type\":\"GlyphRenderer\"}],\"title\":{\"id\":\"f81a9931-eca1-43fc-bafb-fff2af66b151\",\"type\":\"Title\"},\"tool_events\":{\"id\":\"26588380-86ed-4bbe-91fc-34cea84af835\",\"type\":\"ToolEvents\"},\"toolbar\":{\"id\":\"9e98b10d-56be-461e-b02a-c48b0bf1b6f5\",\"type\":\"Toolbar\"},\"x_range\":{\"id\":\"87930646-05f6-4688-88ca-145940e00c89\",\"type\":\"DataRange1d\"},\"y_range\":{\"id\":\"a090d9d1-1c09-46e2-9378-87cfd00226a3\",\"type\":\"DataRange1d\"}},\"id\":\"2f74a1ee-0f72-4915-b2cb-b3ed19322633\",\"subtype\":\"Figure\",\"type\":\"Plot\"},{\"attributes\":{\"plot\":{\"id\":\"2f74a1ee-0f72-4915-b2cb-b3ed19322633\",\"subtype\":\"Figure\",\"type\":\"Plot\"}},\"id\":\"31562f69-9f3c-4eb1-92f9-6aff7bc87324\",\"type\":\"SaveTool\"},{\"attributes\":{\"line_alpha\":{\"value\":0.1},\"line_color\":{\"value\":\"#1f77b4\"},\"x\":{\"field\":\"x\"},\"y\":{\"field\":\"y\"}},\"id\":\"6f18e668-d6ee-4b34-9768-efe5db51e554\",\"type\":\"Line\"},{\"attributes\":{\"plot\":{\"id\":\"2f74a1ee-0f72-4915-b2cb-b3ed19322633\",\"subtype\":\"Figure\",\"type\":\"Plot\"}},\"id\":\"0c014e6b-10f6-4ade-a175-82dc38a9d56a\",\"type\":\"HelpTool\"},{\"attributes\":{\"dimension\":1,\"grid_line_alpha\":{\"value\":0.3},\"plot\":{\"id\":\"2f74a1ee-0f72-4915-b2cb-b3ed19322633\",\"subtype\":\"Figure\",\"type\":\"Plot\"},\"ticker\":{\"id\":\"f6b9fceb-6b9a-4299-aa6e-a927865325fd\",\"type\":\"BasicTicker\"}},\"id\":\"95e397f0-7a73-4b90-bc2c-adba2caf75ff\",\"type\":\"Grid\"},{\"attributes\":{\"legends\":[[\"Observed\",[{\"id\":\"ba265586-eb02-4b54-908a-63485b3ed6a3\",\"type\":\"GlyphRenderer\"}]],[\"Forecasted\",[{\"id\":\"8711becd-1408-4d02-b588-0cb05f1915e1\",\"type\":\"GlyphRenderer\"}]]],\"plot\":{\"id\":\"2f74a1ee-0f72-4915-b2cb-b3ed19322633\",\"subtype\":\"Figure\",\"type\":\"Plot\"}},\"id\":\"3ed28181-b569-42fb-8d91-f17da68c8d5a\",\"type\":\"Legend\"},{\"attributes\":{\"plot\":{\"id\":\"2f74a1ee-0f72-4915-b2cb-b3ed19322633\",\"subtype\":\"Figure\",\"type\":\"Plot\"}},\"id\":\"d54412a0-cc2a-4375-a52a-1fca7272b8d2\",\"type\":\"WheelZoomTool\"},{\"attributes\":{\"callback\":null},\"id\":\"87930646-05f6-4688-88ca-145940e00c89\",\"type\":\"DataRange1d\"},{\"attributes\":{},\"id\":\"74e6cff0-d99f-4313-a111-379746e796ca\",\"type\":\"BasicTickFormatter\"},{\"attributes\":{\"line_color\":{\"value\":\"#A6CEE3\"},\"x\":{\"field\":\"x\"},\"y\":{\"field\":\"y\"}},\"id\":\"1a1248ab-e654-43e2-a4f1-61afd9991cfc\",\"type\":\"Line\"},{\"attributes\":{\"axis_label\":\"Value\",\"formatter\":{\"id\":\"293d4026-afcb-4272-b0af-866f7a614f5c\",\"type\":\"BasicTickFormatter\"},\"plot\":{\"id\":\"2f74a1ee-0f72-4915-b2cb-b3ed19322633\",\"subtype\":\"Figure\",\"type\":\"Plot\"},\"ticker\":{\"id\":\"f6b9fceb-6b9a-4299-aa6e-a927865325fd\",\"type\":\"BasicTicker\"}},\"id\":\"591d7e68-996a-42e2-87ef-10c009138a4f\",\"type\":\"LinearAxis\"},{\"attributes\":{\"plot\":null,\"text\":\"Forecasted values\"},\"id\":\"f81a9931-eca1-43fc-bafb-fff2af66b151\",\"type\":\"Title\"},{\"attributes\":{\"callback\":null,\"column_names\":[\"y\",\"x\"],\"data\":{\"x\":[176,177,178,179,180,181,182,183,184,185,186,187,188,189,190,191,192,193,194,195,196,197,198,199,200],\"y\":[21712.333037478893,26161.384042267186,30280.645168208408,35266.9240005723,12868.215544286011,19690.18089442791,21388.81625938992,23561.962017263933,21460.565081441804,23555.596649211588,26944.97580824383,22297.46589830864,19781.937978713115,23518.36419626064,27748.510073988073,32788.863109656304,10594.561474185537,16890.113115972228,18741.008881178976,20753.23509605632,18698.593745768572,20411.12269923614,24011.913676513814,19679.150019400025,16916.368353783822]}},\"id\":\"4b80254b-2534-45a3-bccb-777ee240de53\",\"type\":\"ColumnDataSource\"}],\"root_ids\":[\"2f74a1ee-0f72-4915-b2cb-b3ed19322633\"]},\"title\":\"Bokeh Application\",\"version\":\"0.12.0\"}};\n",
       "            var render_items = [{\"docid\":\"444c09ad-f343-419c-9cf8-cf03edf172a4\",\"elementid\":\"d81cfecf-9667-4575-a51a-02586db485f2\",\"modelid\":\"2f74a1ee-0f72-4915-b2cb-b3ed19322633\",\"notebook_comms_target\":\"6d9a3782-2147-4d5f-a618-fcbce3d0e0f3\"}];\n",
       "            \n",
       "            Bokeh.embed.embed_items(docs_json, render_items);\n",
       "        });\n",
       "      },\n",
       "      function(Bokeh) {\n",
       "      }\n",
       "    ];\n",
       "  \n",
       "    function run_inline_js() {\n",
       "      for (var i = 0; i < inline_js.length; i++) {\n",
       "        inline_js[i](window.Bokeh);\n",
       "      }\n",
       "    }\n",
       "  \n",
       "    if (window._bokeh_is_loading === 0) {\n",
       "      console.log(\"Bokeh: BokehJS loaded, going straight to plotting\");\n",
       "      run_inline_js();\n",
       "    } else {\n",
       "      load_libs(js_urls, function() {\n",
       "        console.log(\"Bokeh: BokehJS plotting callback run at\", now());\n",
       "        run_inline_js();\n",
       "      });\n",
       "    }\n",
       "  }(this));\n",
       "</script>"
      ]
     },
     "metadata": {},
     "output_type": "display_data"
    },
    {
     "data": {
      "text/html": [
       "<p><code>&lt;Bokeh Notebook handle for <strong>In[10]</strong>&gt;</code></p>"
      ],
      "text/plain": [
       "<bokeh.io._CommsHandle at 0x117dec050>"
      ]
     },
     "execution_count": 10,
     "metadata": {},
     "output_type": "execute_result"
    }
   ],
   "source": [
    "import pandas as pd\n",
    "\n",
    "def plot_arima(truth, forecasts, title=\"Forecasted values\", xaxis_label='Time',\n",
    "               yaxis_label='Value', c1='#A6CEE3', c2='#B2DF8A', **kwargs):\n",
    "    \n",
    "    # make truth and forecasts into pandas series\n",
    "    n_truth = truth.shape[0]\n",
    "    n_forecasts = forecasts.shape[0]\n",
    "    \n",
    "    truth = pd.Series(truth, index=np.arange(truth.shape[0]))\n",
    "    forecasts = pd.Series(forecasts, index=np.arange(n_truth, n_truth + n_forecasts))\n",
    "    \n",
    "    # set up the plot\n",
    "    p = figure(title=title, plot_height=400, **kwargs)\n",
    "    p.grid.grid_line_alpha=0.3\n",
    "    p.xaxis.axis_label = xaxis_label\n",
    "    p.yaxis.axis_label = yaxis_label\n",
    "    \n",
    "    # add the lines\n",
    "    p.line(truth.index, truth.values, color=c1, legend='Observed')\n",
    "    p.line(forecasts.index, forecasts.values, color=c2, legend='Forecasted')\n",
    "    \n",
    "    return p\n",
    "    \n",
    "# call the plotting func\n",
    "show(plot_arima(wineind, next_25))"
   ]
  }
 ],
 "metadata": {
  "anaconda-cloud": {},
  "kernelspec": {
   "display_name": "Python [Root]",
   "language": "python",
   "name": "Python [Root]"
  },
  "language_info": {
   "codemirror_mode": {
    "name": "ipython",
    "version": 2
   },
   "file_extension": ".py",
   "mimetype": "text/x-python",
   "name": "python",
   "nbconvert_exporter": "python",
   "pygments_lexer": "ipython2",
   "version": "2.7.12"
  }
 },
 "nbformat": 4,
 "nbformat_minor": 0
}
